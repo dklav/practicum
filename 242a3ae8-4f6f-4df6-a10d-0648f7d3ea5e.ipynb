{
 "cells": [
  {
   "cell_type": "markdown",
   "metadata": {},
   "source": [
    "\n",
    "# проект \n",
    "\n",
    "# Анализ рынка игр на игровых консолях"
   ]
  },
  {
   "cell_type": "markdown",
   "metadata": {},
   "source": [
    " **Перед нами данные о продажах в интернет-магазине «Стримчик», который продаёт по всему миру компьютерные игры. Из открытых источников доступны исторические данные о продажах игр, оценки пользователей и экспертов, жанры и платформы (например, Xbox или PlayStation). \\\n",
    " Цель проекта: Нам нужно выявить определяющие успешность игры закономерности. Это позволит сделать ставку на потенциально популярный продукт и спланировать рекламные кампании.**\\\n",
    "### План работы:\n",
    "1. Открыть таблицу\n",
    "\n",
    "2. Подготовить данные\n",
    "\n",
    "3. Провести исследовательский анализ данных**\\\n",
    "\n",
    "   3.1 Посмотрим, сколько игр выпускалось в разные годы.\\\n",
    "\n",
    "   3.2 Посмотрим, как менялись продажи по платформам. Выберем платформы с наибольшими суммарными продажами и построим распределение по годам.\\\n",
    "\n",
    "   3.3 Возьмем данные за соответствующий актуальный период.\\\n",
    "\n",
    "   3.4 Посмотрим, какие платформы лидируют по продажам, выберем несколько потенциально прибыльных платформ.\\\n",
    "\n",
    "   3.5 Постройте график «ящик с усами» по глобальным продажам игр в разбивке по платформам. Опишите результат.\\\n",
    "\n",
    "   3.6 Посмотрим, как влияют на продажи внутри одной популярной платформы отзывы пользователей и критиков. Построим диаграмму рассеяния и посчитаем корреляцию между отзывами и продажами.\\\n",
    "\n",
    "   3.7 Соотнесите выводы с продажами игр на других платформах.\\\n",
    "\n",
    "   3.8 Посмотрим на общее распределение игр по жанрам.\\\n",
    "\n",
    "4. Составим портрет пользователя каждого региона\n",
    "\n",
    "   Определим для пользователя каждого региона (NA, EU, JP):\\\n",
    "\n",
    "   4.1 Самые популярные платформы (топ-5). Опишите различия в долях продаж.\\\n",
    "\n",
    "   4.2 Самые популярные жанры (топ-5). Поясните разницу.\\\n",
    "\n",
    "   4.3 Влияет ли рейтинг ESRB на продажи в отдельном регионе?\\\n",
    " \n",
    "5. Проверим гипотезы:\\\n",
    "   5.1 Средние пользовательские рейтинги платформ Xbox One и PC одинаковые;\\\n",
    "\n",
    "   5.2 Средние пользовательские рейтинги жанров Action (англ. «действие», экшен-игры) и Sports (англ. «спортивные соревнования») разные.\\\n",
    "\n",
    "я\n",
    "\n"
   ]
  },
  {
   "cell_type": "markdown",
   "metadata": {},
   "source": [
    "**Шаг 1. Откройте файл с данными и изучите общую информацию**\n",
    "\n",
    "Путь к файлу: /datasets/games.csv."
   ]
  },
  {
   "cell_type": "code",
   "execution_count": 1,
   "metadata": {},
   "outputs": [],
   "source": [
    "import pandas as pd\n",
    "import matplotlib.pyplot as plt\n",
    "import numpy as np\n",
    "from scipy import stats as st"
   ]
  },
  {
   "cell_type": "code",
   "execution_count": 2,
   "metadata": {
    "scrolled": false
   },
   "outputs": [
    {
     "name": "stdout",
     "output_type": "stream",
     "text": [
      "<class 'pandas.core.frame.DataFrame'>\n",
      "RangeIndex: 16715 entries, 0 to 16714\n",
      "Data columns (total 11 columns):\n",
      " #   Column           Non-Null Count  Dtype  \n",
      "---  ------           --------------  -----  \n",
      " 0   Name             16713 non-null  object \n",
      " 1   Platform         16715 non-null  object \n",
      " 2   Year_of_Release  16446 non-null  float64\n",
      " 3   Genre            16713 non-null  object \n",
      " 4   NA_sales         16715 non-null  float64\n",
      " 5   EU_sales         16715 non-null  float64\n",
      " 6   JP_sales         16715 non-null  float64\n",
      " 7   Other_sales      16715 non-null  float64\n",
      " 8   Critic_Score     8137 non-null   float64\n",
      " 9   User_Score       10014 non-null  object \n",
      " 10  Rating           9949 non-null   object \n",
      "dtypes: float64(6), object(5)\n",
      "memory usage: 1.4+ MB\n"
     ]
    }
   ],
   "source": [
    "data = pd.read_csv('/datasets/games.csv')\n",
    "data.info()"
   ]
  },
  {
   "cell_type": "markdown",
   "metadata": {},
   "source": [
    "**Шаг 2. Подготовьте данные**\n",
    "\n",
    "2.1.Заменить названия столбцов (приведите к нижнему регистру);\n",
    "\n",
    "2.2 Преобразовать данные в нужные типы. Опишите, в каких столбцах заменили тип данных и почему;\n",
    "\n",
    "2.3.Обработать пропуски при необходимости: \n",
    "\n",
    " 2.3.1.Объяснить, почему заполнили пропуски определённым образом или почему не стали это делать;\n",
    "\n",
    " 2.3.2 Описать причины, которые могли привести к пропускам;\n",
    "\n",
    " 2.3.3 Обратить внимание на аббревиатуру 'tbd' в столбце с оценкой пользователей. Отдельно разберите это значение и опишите, как его обработать;\n",
    "2.4 Посчитать суммарные продажи во всех регионах и запишите их в отдельный столбец."
   ]
  },
  {
   "cell_type": "markdown",
   "metadata": {},
   "source": [
    "**2.1 Заменим названия столбцов**"
   ]
  },
  {
   "cell_type": "code",
   "execution_count": 3,
   "metadata": {},
   "outputs": [
    {
     "data": {
      "text/html": [
       "<div>\n",
       "<style scoped>\n",
       "    .dataframe tbody tr th:only-of-type {\n",
       "        vertical-align: middle;\n",
       "    }\n",
       "\n",
       "    .dataframe tbody tr th {\n",
       "        vertical-align: top;\n",
       "    }\n",
       "\n",
       "    .dataframe thead th {\n",
       "        text-align: right;\n",
       "    }\n",
       "</style>\n",
       "<table border=\"1\" class=\"dataframe\">\n",
       "  <thead>\n",
       "    <tr style=\"text-align: right;\">\n",
       "      <th></th>\n",
       "      <th>name</th>\n",
       "      <th>platform</th>\n",
       "      <th>year_of_release</th>\n",
       "      <th>genre</th>\n",
       "      <th>na_sales</th>\n",
       "      <th>eu_sales</th>\n",
       "      <th>jp_sales</th>\n",
       "      <th>other_sales</th>\n",
       "      <th>critic_score</th>\n",
       "      <th>user_score</th>\n",
       "      <th>rating</th>\n",
       "    </tr>\n",
       "  </thead>\n",
       "  <tbody>\n",
       "    <tr>\n",
       "      <th>0</th>\n",
       "      <td>Wii Sports</td>\n",
       "      <td>Wii</td>\n",
       "      <td>2006.0</td>\n",
       "      <td>Sports</td>\n",
       "      <td>41.36</td>\n",
       "      <td>28.96</td>\n",
       "      <td>3.77</td>\n",
       "      <td>8.45</td>\n",
       "      <td>76.0</td>\n",
       "      <td>8</td>\n",
       "      <td>E</td>\n",
       "    </tr>\n",
       "    <tr>\n",
       "      <th>1</th>\n",
       "      <td>Super Mario Bros.</td>\n",
       "      <td>NES</td>\n",
       "      <td>1985.0</td>\n",
       "      <td>Platform</td>\n",
       "      <td>29.08</td>\n",
       "      <td>3.58</td>\n",
       "      <td>6.81</td>\n",
       "      <td>0.77</td>\n",
       "      <td>NaN</td>\n",
       "      <td>NaN</td>\n",
       "      <td>NaN</td>\n",
       "    </tr>\n",
       "    <tr>\n",
       "      <th>2</th>\n",
       "      <td>Mario Kart Wii</td>\n",
       "      <td>Wii</td>\n",
       "      <td>2008.0</td>\n",
       "      <td>Racing</td>\n",
       "      <td>15.68</td>\n",
       "      <td>12.76</td>\n",
       "      <td>3.79</td>\n",
       "      <td>3.29</td>\n",
       "      <td>82.0</td>\n",
       "      <td>8.3</td>\n",
       "      <td>E</td>\n",
       "    </tr>\n",
       "    <tr>\n",
       "      <th>3</th>\n",
       "      <td>Wii Sports Resort</td>\n",
       "      <td>Wii</td>\n",
       "      <td>2009.0</td>\n",
       "      <td>Sports</td>\n",
       "      <td>15.61</td>\n",
       "      <td>10.93</td>\n",
       "      <td>3.28</td>\n",
       "      <td>2.95</td>\n",
       "      <td>80.0</td>\n",
       "      <td>8</td>\n",
       "      <td>E</td>\n",
       "    </tr>\n",
       "    <tr>\n",
       "      <th>4</th>\n",
       "      <td>Pokemon Red/Pokemon Blue</td>\n",
       "      <td>GB</td>\n",
       "      <td>1996.0</td>\n",
       "      <td>Role-Playing</td>\n",
       "      <td>11.27</td>\n",
       "      <td>8.89</td>\n",
       "      <td>10.22</td>\n",
       "      <td>1.00</td>\n",
       "      <td>NaN</td>\n",
       "      <td>NaN</td>\n",
       "      <td>NaN</td>\n",
       "    </tr>\n",
       "  </tbody>\n",
       "</table>\n",
       "</div>"
      ],
      "text/plain": [
       "                       name platform  year_of_release         genre  na_sales  \\\n",
       "0                Wii Sports      Wii           2006.0        Sports     41.36   \n",
       "1         Super Mario Bros.      NES           1985.0      Platform     29.08   \n",
       "2            Mario Kart Wii      Wii           2008.0        Racing     15.68   \n",
       "3         Wii Sports Resort      Wii           2009.0        Sports     15.61   \n",
       "4  Pokemon Red/Pokemon Blue       GB           1996.0  Role-Playing     11.27   \n",
       "\n",
       "   eu_sales  jp_sales  other_sales  critic_score user_score rating  \n",
       "0     28.96      3.77         8.45          76.0          8      E  \n",
       "1      3.58      6.81         0.77           NaN        NaN    NaN  \n",
       "2     12.76      3.79         3.29          82.0        8.3      E  \n",
       "3     10.93      3.28         2.95          80.0          8      E  \n",
       "4      8.89     10.22         1.00           NaN        NaN    NaN  "
      ]
     },
     "execution_count": 3,
     "metadata": {},
     "output_type": "execute_result"
    }
   ],
   "source": [
    "data.rename(columns=lambda x: x.lower(), inplace=True)\n",
    "data.head()"
   ]
  },
  {
   "cell_type": "markdown",
   "metadata": {},
   "source": [
    "**2.2 Преобразуйте данные в нужные типы.**\\\n",
    "Year_of_Release поменять на datetime, год выпуска лучше во временном типе данных\\\n",
    "critic_score поменять на int - оценка пользователей это целое чило\\\n",
    "user_score поменять на float - это числовое дроное значение."
   ]
  },
  {
   "cell_type": "code",
   "execution_count": 4,
   "metadata": {},
   "outputs": [],
   "source": [
    "#изменим тип данных на datetime\n",
    "data['year_of_release'] = pd.to_datetime(data['year_of_release'], format='%Y')"
   ]
  },
  {
   "cell_type": "code",
   "execution_count": 5,
   "metadata": {},
   "outputs": [],
   "source": [
    "#critic_score поменять на int \n",
    "data['critic_score'] = data['critic_score'].fillna(-1).astype(int) #пропуски меняем на 0"
   ]
  },
  {
   "cell_type": "markdown",
   "metadata": {},
   "source": [
    "Мы оставили пропуски в этом столбце, чтобы потом корректно рассчитать оценку"
   ]
  },
  {
   "cell_type": "markdown",
   "metadata": {},
   "source": [
    "**рейтинг TBD - To Be Determined означает, что он не определён, то же самое, что и пропуск. Меняем значения на NaN**"
   ]
  },
  {
   "cell_type": "code",
   "execution_count": 6,
   "metadata": {},
   "outputs": [],
   "source": [
    "data['user_score'] = data['user_score'].replace('tbd', np.nan)"
   ]
  },
  {
   "cell_type": "code",
   "execution_count": 7,
   "metadata": {
    "scrolled": true
   },
   "outputs": [
    {
     "name": "stdout",
     "output_type": "stream",
     "text": [
      "<class 'pandas.core.frame.DataFrame'>\n",
      "RangeIndex: 16715 entries, 0 to 16714\n",
      "Data columns (total 11 columns):\n",
      " #   Column           Non-Null Count  Dtype         \n",
      "---  ------           --------------  -----         \n",
      " 0   name             16713 non-null  object        \n",
      " 1   platform         16715 non-null  object        \n",
      " 2   year_of_release  16446 non-null  datetime64[ns]\n",
      " 3   genre            16713 non-null  object        \n",
      " 4   na_sales         16715 non-null  float64       \n",
      " 5   eu_sales         16715 non-null  float64       \n",
      " 6   jp_sales         16715 non-null  float64       \n",
      " 7   other_sales      16715 non-null  float64       \n",
      " 8   critic_score     16715 non-null  int64         \n",
      " 9   user_score       7590 non-null   float64       \n",
      " 10  rating           9949 non-null   object        \n",
      "dtypes: datetime64[ns](1), float64(5), int64(1), object(4)\n",
      "memory usage: 1.4+ MB\n"
     ]
    }
   ],
   "source": [
    "data['user_score'] = data['user_score'].astype(float)\n",
    "data.info()"
   ]
  },
  {
   "cell_type": "markdown",
   "metadata": {},
   "source": [
    "в этом столбце тоже оставили пропуски, чтоб корректно считать далее оценку пользователей. В столбцах с рейтингом пропуски означают, что игры не оценивали, либо просто не вписали оценку по ошибке."
   ]
  },
  {
   "cell_type": "markdown",
   "metadata": {},
   "source": [
    "**2.3 Обработаем пропуски**"
   ]
  },
  {
   "cell_type": "markdown",
   "metadata": {},
   "source": [
    "как мы видим из общей информации:\n",
    "пропуски есть в названиях - 2 из 16715 - меньше 2%, удалим эти данные\n",
    "в годах выпуска - 269 пропуков, это 16% слишком много, чтобы прото удалить.\n",
    "в жанрах - 2 из 16715, меньше 2%, удаляем эти строки.\n",
    "в рейтинге - многие игры без рейтинга, возможно, их еще не оценивали. можно заполнить значением NoRaiting."
   ]
  },
  {
   "cell_type": "code",
   "execution_count": 8,
   "metadata": {},
   "outputs": [
    {
     "name": "stdout",
     "output_type": "stream",
     "text": [
      "<class 'pandas.core.frame.DataFrame'>\n",
      "Int64Index: 16713 entries, 0 to 16714\n",
      "Data columns (total 11 columns):\n",
      " #   Column           Non-Null Count  Dtype         \n",
      "---  ------           --------------  -----         \n",
      " 0   name             16713 non-null  object        \n",
      " 1   platform         16713 non-null  object        \n",
      " 2   year_of_release  16444 non-null  datetime64[ns]\n",
      " 3   genre            16713 non-null  object        \n",
      " 4   na_sales         16713 non-null  float64       \n",
      " 5   eu_sales         16713 non-null  float64       \n",
      " 6   jp_sales         16713 non-null  float64       \n",
      " 7   other_sales      16713 non-null  float64       \n",
      " 8   critic_score     16713 non-null  int64         \n",
      " 9   user_score       7590 non-null   float64       \n",
      " 10  rating           9949 non-null   object        \n",
      "dtypes: datetime64[ns](1), float64(5), int64(1), object(4)\n",
      "memory usage: 1.5+ MB\n"
     ]
    }
   ],
   "source": [
    "#удаляем строки с пропусками в столбцах name и genre\n",
    "data.dropna(subset = ['name'], inplace=True)\n",
    "data.dropna(subset = ['genre'], inplace=True)\n",
    "data.info()\n"
   ]
  },
  {
   "cell_type": "code",
   "execution_count": 9,
   "metadata": {},
   "outputs": [
    {
     "data": {
      "text/plain": [
       "array(['E', 'NoRat', 'M', 'T', 'E10+', 'K-A', 'AO', 'EC', 'RP'],\n",
       "      dtype=object)"
      ]
     },
     "execution_count": 9,
     "metadata": {},
     "output_type": "execute_result"
    }
   ],
   "source": [
    "data['rating'] = data['rating'].fillna('NoRat')\n",
    "data['rating'].unique()"
   ]
  },
  {
   "cell_type": "markdown",
   "metadata": {},
   "source": [
    "Таблица сократилась менее, чем на 2% - ушли 2 строки, знаит пропуски в именах совпадали с пропуками в жанрах"
   ]
  },
  {
   "cell_type": "markdown",
   "metadata": {},
   "source": [
    "**Проверим таблицу на дубликаты**"
   ]
  },
  {
   "cell_type": "code",
   "execution_count": 10,
   "metadata": {},
   "outputs": [
    {
     "name": "stdout",
     "output_type": "stream",
     "text": [
      "Таблица не содержит явных дубликатов.\n"
     ]
    }
   ],
   "source": [
    "duplicates = data.duplicated()\n",
    "if duplicates.any():\n",
    "    print(\"Таблица содержит дубликаты.\")\n",
    "else:\n",
    "    print(\"Таблица не содержит явных дубликатов.\")"
   ]
  },
  {
   "cell_type": "markdown",
   "metadata": {},
   "source": [
    "Проверим на неявные дубликаты"
   ]
  },
  {
   "cell_type": "code",
   "execution_count": 11,
   "metadata": {},
   "outputs": [
    {
     "name": "stdout",
     "output_type": "stream",
     "text": [
      "Список неявных дубликатов:\n",
      "                name platform year_of_release   genre  na_sales  eu_sales  \\\n",
      "16230  Madden NFL 13      PS3      2012-01-01  Sports       0.0      0.01   \n",
      "\n",
      "       jp_sales  other_sales  critic_score  user_score rating  \n",
      "16230       0.0          0.0            83         5.5      E  \n"
     ]
    }
   ],
   "source": [
    "columns_to_check = ['name', 'platform', 'year_of_release']\n",
    "duplicates = data.duplicated(subset=columns_to_check)\n",
    "\n",
    "duplicate_rows = data[duplicates]\n",
    "\n",
    "print(\"Список неявных дубликатов:\")\n",
    "print(duplicate_rows)"
   ]
  },
  {
   "cell_type": "code",
   "execution_count": 12,
   "metadata": {},
   "outputs": [
    {
     "name": "stdout",
     "output_type": "stream",
     "text": [
      "<class 'pandas.core.frame.DataFrame'>\n",
      "Int64Index: 16712 entries, 0 to 16714\n",
      "Data columns (total 11 columns):\n",
      " #   Column           Non-Null Count  Dtype         \n",
      "---  ------           --------------  -----         \n",
      " 0   name             16712 non-null  object        \n",
      " 1   platform         16712 non-null  object        \n",
      " 2   year_of_release  16443 non-null  datetime64[ns]\n",
      " 3   genre            16712 non-null  object        \n",
      " 4   na_sales         16712 non-null  float64       \n",
      " 5   eu_sales         16712 non-null  float64       \n",
      " 6   jp_sales         16712 non-null  float64       \n",
      " 7   other_sales      16712 non-null  float64       \n",
      " 8   critic_score     16712 non-null  int64         \n",
      " 9   user_score       7589 non-null   float64       \n",
      " 10  rating           16712 non-null  object        \n",
      "dtypes: datetime64[ns](1), float64(5), int64(1), object(4)\n",
      "memory usage: 1.5+ MB\n"
     ]
    }
   ],
   "source": [
    "#удалим неявные дубликаты\n",
    "data.drop_duplicates(subset=columns_to_check, inplace=True)\n",
    "#проверяем\n",
    "data.info()"
   ]
  },
  {
   "cell_type": "markdown",
   "metadata": {},
   "source": [
    "**2.4 Посчитайте суммарные продажи во всех регионах и запишите их в отдельный столбец.**"
   ]
  },
  {
   "cell_type": "code",
   "execution_count": 13,
   "metadata": {},
   "outputs": [],
   "source": [
    "#добавим столбец с общими продажами\n",
    "data['sales'] = data['na_sales'] + data['eu_sales'] + data['jp_sales'] +  data['other_sales']"
   ]
  },
  {
   "cell_type": "markdown",
   "metadata": {},
   "source": [
    "**вывод** Мы заменили тип данных на более подходящий в столбцах, удалили строки с пропусками, удалили дубликаты. Заменили пропуски в столбце rating на 'NoRating' - это поможет нам далее корректно провести анализ с рейтингами  игр."
   ]
  },
  {
   "cell_type": "markdown",
   "metadata": {},
   "source": [
    "**Шаг 3. Проведите исследовательский анализ данных**\n",
    "\n",
    "3.1 Посмотрите, сколько игр выпускалось в разные годы. Важны ли данные за все периоды?\n",
    "\n",
    "3.2 Посмотрите, как менялись продажи по платформам. Выберите платформы с наибольшими суммарными продажами и постройте распределение по годам. За какой характерный срок появляются новые и исчезают старые платформы?\n",
    "\n",
    "3.3 Возьмите данные за соответствующий актуальный период. Актуальный период определите самостоятельно в результате исследования предыдущих вопросов. Основной фактор — эти данные помогут построить прогноз на 2017 год.\n",
    "\n",
    "3.4 Не учитывайте в работе данные за предыдущие годы.\n",
    "\n",
    "3.5 Какие платформы лидируют по продажам, растут или падают? Выберите несколько потенциально прибыльных платформ.\n",
    "\n",
    "3.6 Постройте график «ящик с усами» по глобальным продажам игр в разбивке по платформам. Опишите результат.\n",
    "\n",
    "3.7 Посмотрите, как влияют на продажи внутри одной популярной платформы отзывы пользователей и критиков. Постройте диаграмму рассеяния и посчитайте корреляцию между отзывами и продажами. Сформулируйте выводы.\n",
    "\n",
    "3.8 Соотнесите выводы с продажами игр на других платформах.\n",
    "\n",
    "3.9 Посмотрите на общее распределение игр по жанрам. Что можно сказать о самых прибыльных жанрах? Выделяются ли жанры с высокими и низкими продажами?"
   ]
  },
  {
   "cell_type": "markdown",
   "metadata": {},
   "source": [
    "**3.1 Посмотрите, сколько игр выпускалось в разные годы. Важны ли данные за все периоды?**"
   ]
  },
  {
   "cell_type": "code",
   "execution_count": 14,
   "metadata": {},
   "outputs": [
    {
     "data": {
      "text/plain": [
       "<AxesSubplot:title={'center':'Суммарные продажи игр по годам'}, xlabel='Года выпуска', ylabel='Продажи в млню шт.'>"
      ]
     },
     "execution_count": 14,
     "metadata": {},
     "output_type": "execute_result"
    },
    {
     "data": {
      "image/png": "[encoded data removed]",
      "text/plain": [
       "<Figure size 432x288 with 1 Axes>"
      ]
     },
     "metadata": {
      "needs_background": "light"
     },
     "output_type": "display_data"
    }
   ],
   "source": [
    "years_pivot = pd.pivot_table(data, index='year_of_release', values='name', aggfunc='count')\n",
    "years_pivot.plot(kind='bar', title='Суммарные продажи игр по годам', xlabel='Года выпуска', ylabel='Продажи в млню шт.')"
   ]
  },
  {
   "cell_type": "markdown",
   "metadata": {},
   "source": [
    "**Вывод** Из таблицы видно, что данные до 2002 года не так важны - до 2002 отрасль стремительно росла, а с 2002 рынок игр стал заполненным, данные уже можно сравнивать без проблем."
   ]
  },
  {
   "cell_type": "markdown",
   "metadata": {},
   "source": [
    "**3.2 Посмотрите, как менялись продажи по платформам. Выберите платформы с наибольшими суммарными продажами и постройте распределение по годам. За какой характерный срок появляются новые и исчезают старые платформы?**"
   ]
  },
  {
   "cell_type": "code",
   "execution_count": 15,
   "metadata": {},
   "outputs": [
    {
     "data": {
      "text/html": [
       "<div>\n",
       "<style scoped>\n",
       "    .dataframe tbody tr th:only-of-type {\n",
       "        vertical-align: middle;\n",
       "    }\n",
       "\n",
       "    .dataframe tbody tr th {\n",
       "        vertical-align: top;\n",
       "    }\n",
       "\n",
       "    .dataframe thead th {\n",
       "        text-align: right;\n",
       "    }\n",
       "</style>\n",
       "<table border=\"1\" class=\"dataframe\">\n",
       "  <thead>\n",
       "    <tr style=\"text-align: right;\">\n",
       "      <th></th>\n",
       "      <th>sales</th>\n",
       "    </tr>\n",
       "    <tr>\n",
       "      <th>platform</th>\n",
       "      <th></th>\n",
       "    </tr>\n",
       "  </thead>\n",
       "  <tbody>\n",
       "    <tr>\n",
       "      <th>PS2</th>\n",
       "      <td>1255.77</td>\n",
       "    </tr>\n",
       "    <tr>\n",
       "      <th>X360</th>\n",
       "      <td>971.42</td>\n",
       "    </tr>\n",
       "    <tr>\n",
       "      <th>PS3</th>\n",
       "      <td>939.64</td>\n",
       "    </tr>\n",
       "    <tr>\n",
       "      <th>Wii</th>\n",
       "      <td>907.51</td>\n",
       "    </tr>\n",
       "    <tr>\n",
       "      <th>DS</th>\n",
       "      <td>806.12</td>\n",
       "    </tr>\n",
       "    <tr>\n",
       "      <th>PS</th>\n",
       "      <td>730.86</td>\n",
       "    </tr>\n",
       "    <tr>\n",
       "      <th>GBA</th>\n",
       "      <td>317.85</td>\n",
       "    </tr>\n",
       "    <tr>\n",
       "      <th>PS4</th>\n",
       "      <td>314.14</td>\n",
       "    </tr>\n",
       "    <tr>\n",
       "      <th>PSP</th>\n",
       "      <td>294.05</td>\n",
       "    </tr>\n",
       "    <tr>\n",
       "      <th>PC</th>\n",
       "      <td>259.52</td>\n",
       "    </tr>\n",
       "    <tr>\n",
       "      <th>3DS</th>\n",
       "      <td>259.00</td>\n",
       "    </tr>\n",
       "    <tr>\n",
       "      <th>XB</th>\n",
       "      <td>257.74</td>\n",
       "    </tr>\n",
       "    <tr>\n",
       "      <th>GB</th>\n",
       "      <td>255.46</td>\n",
       "    </tr>\n",
       "    <tr>\n",
       "      <th>NES</th>\n",
       "      <td>251.05</td>\n",
       "    </tr>\n",
       "    <tr>\n",
       "      <th>N64</th>\n",
       "      <td>218.68</td>\n",
       "    </tr>\n",
       "    <tr>\n",
       "      <th>SNES</th>\n",
       "      <td>200.04</td>\n",
       "    </tr>\n",
       "    <tr>\n",
       "      <th>GC</th>\n",
       "      <td>198.93</td>\n",
       "    </tr>\n",
       "    <tr>\n",
       "      <th>XOne</th>\n",
       "      <td>159.32</td>\n",
       "    </tr>\n",
       "    <tr>\n",
       "      <th>2600</th>\n",
       "      <td>96.98</td>\n",
       "    </tr>\n",
       "    <tr>\n",
       "      <th>WiiU</th>\n",
       "      <td>82.19</td>\n",
       "    </tr>\n",
       "    <tr>\n",
       "      <th>PSV</th>\n",
       "      <td>54.07</td>\n",
       "    </tr>\n",
       "    <tr>\n",
       "      <th>SAT</th>\n",
       "      <td>33.59</td>\n",
       "    </tr>\n",
       "    <tr>\n",
       "      <th>GEN</th>\n",
       "      <td>28.35</td>\n",
       "    </tr>\n",
       "    <tr>\n",
       "      <th>DC</th>\n",
       "      <td>15.95</td>\n",
       "    </tr>\n",
       "    <tr>\n",
       "      <th>SCD</th>\n",
       "      <td>1.86</td>\n",
       "    </tr>\n",
       "    <tr>\n",
       "      <th>NG</th>\n",
       "      <td>1.44</td>\n",
       "    </tr>\n",
       "    <tr>\n",
       "      <th>WS</th>\n",
       "      <td>1.42</td>\n",
       "    </tr>\n",
       "    <tr>\n",
       "      <th>TG16</th>\n",
       "      <td>0.16</td>\n",
       "    </tr>\n",
       "    <tr>\n",
       "      <th>3DO</th>\n",
       "      <td>0.10</td>\n",
       "    </tr>\n",
       "    <tr>\n",
       "      <th>GG</th>\n",
       "      <td>0.04</td>\n",
       "    </tr>\n",
       "  </tbody>\n",
       "</table>\n",
       "</div>"
      ],
      "text/plain": [
       "            sales\n",
       "platform         \n",
       "PS2       1255.77\n",
       "X360       971.42\n",
       "PS3        939.64\n",
       "Wii        907.51\n",
       "DS         806.12\n",
       "PS         730.86\n",
       "GBA        317.85\n",
       "PS4        314.14\n",
       "PSP        294.05\n",
       "PC         259.52\n",
       "3DS        259.00\n",
       "XB         257.74\n",
       "GB         255.46\n",
       "NES        251.05\n",
       "N64        218.68\n",
       "SNES       200.04\n",
       "GC         198.93\n",
       "XOne       159.32\n",
       "2600        96.98\n",
       "WiiU        82.19\n",
       "PSV         54.07\n",
       "SAT         33.59\n",
       "GEN         28.35\n",
       "DC          15.95\n",
       "SCD          1.86\n",
       "NG           1.44\n",
       "WS           1.42\n",
       "TG16         0.16\n",
       "3DO          0.10\n",
       "GG           0.04"
      ]
     },
     "execution_count": 15,
     "metadata": {},
     "output_type": "execute_result"
    }
   ],
   "source": [
    "\n",
    "#создадим датафрейм с платформами и суммой их продаж\n",
    "platform_pivot = data.pivot_table(index='platform', values='sales', aggfunc='sum')\n",
    "platform_pivot = platform_pivot.sort_values('sales', ascending=False)\n",
    "platform_pivot.head(30)"
   ]
  },
  {
   "cell_type": "markdown",
   "metadata": {},
   "source": [
    "Платформы с наибольшими суммарными продажами - возьмем первые 10: PS2, X360, PS3, Wii, DS,PS, GBA,PS4,PSP,PC,3DS. По этим платформам построим распределение по годам"
   ]
  },
  {
   "cell_type": "code",
   "execution_count": 16,
   "metadata": {},
   "outputs": [
    {
     "data": {
      "image/png": "[encoded data removed]",
      "text/plain": [
       "<Figure size 1080x360 with 1 Axes>"
      ]
     },
     "metadata": {
      "needs_background": "light"
     },
     "output_type": "display_data"
    }
   ],
   "source": [
    "first_data = data.query('platform == [\"PS2\", \"X360\", \"PS3\", \"Wii\", \"DS\", \"PS\", \"PS4\", \"GBA\", \"PSP\", \"3DS\"]').pivot_table(index = 'year_of_release', columns = 'platform', values = 'sales', aggfunc = 'sum')\n",
    "first_data.plot(grid = True, figsize = (15,5), style = 'o-', xlabel = 'Год выпуска', ylabel = 'Продажи', label = 'Платформа') \n",
    "plt.title('Продажи по топ-12 платформам игр по годам') \n",
    "plt.show() "
   ]
  },
  {
   "cell_type": "markdown",
   "metadata": {},
   "source": [
    "**вывод** До 2016 дожили только платформы PS4, 3DS, X360, PS3, Wii, PSP. Причем у всех 6 платформ продажи упали, остальные просто прекратили продажи."
   ]
  },
  {
   "cell_type": "markdown",
   "metadata": {},
   "source": [
    "**3.3 Возьмите данные за соответствующий актуальный период. Актуальный период определите самостоятельно в результате исследования предыдущих вопросов. Основной фактор — эти данные помогут построить прогноз на 2017 год. \n",
    "3.4 Не учитывайте в работе данные за предыдущие годы.\n",
    "3.5 Какие платформы лидируют по продажам, растут или падают? Выберите несколько потенциально прибыльных платформ.**"
   ]
  },
  {
   "cell_type": "markdown",
   "metadata": {},
   "source": [
    "актуальный период лучше взять с 2014 года, когда на рынке остались актуальные в 2016 платформы."
   ]
  },
  {
   "cell_type": "code",
   "execution_count": 17,
   "metadata": {},
   "outputs": [
    {
     "name": "stdout",
     "output_type": "stream",
     "text": [
      "<class 'pandas.core.frame.DataFrame'>\n",
      "Int64Index: 1689 entries, 31 to 16714\n",
      "Data columns (total 12 columns):\n",
      " #   Column           Non-Null Count  Dtype         \n",
      "---  ------           --------------  -----         \n",
      " 0   name             1689 non-null   object        \n",
      " 1   platform         1689 non-null   object        \n",
      " 2   year_of_release  1689 non-null   datetime64[ns]\n",
      " 3   genre            1689 non-null   object        \n",
      " 4   na_sales         1689 non-null   float64       \n",
      " 5   eu_sales         1689 non-null   float64       \n",
      " 6   jp_sales         1689 non-null   float64       \n",
      " 7   other_sales      1689 non-null   float64       \n",
      " 8   critic_score     1689 non-null   int64         \n",
      " 9   user_score       888 non-null    float64       \n",
      " 10  rating           1689 non-null   object        \n",
      " 11  sales            1689 non-null   float64       \n",
      "dtypes: datetime64[ns](1), float64(6), int64(1), object(4)\n",
      "memory usage: 171.5+ KB\n"
     ]
    }
   ],
   "source": [
    "years = [2014, 2015, 2016]\n",
    "actual_data = data[data['year_of_release'].dt.year.isin(years)]\n",
    "actual_data.info()"
   ]
  },
  {
   "cell_type": "markdown",
   "metadata": {},
   "source": [
    "посмотрим на продажи по платформам за выбранный период"
   ]
  },
  {
   "cell_type": "code",
   "execution_count": 18,
   "metadata": {},
   "outputs": [
    {
     "data": {
      "text/plain": [
       "<AxesSubplot:title={'center':'Продажи по платформам за 3 года'}, xlabel='Платформы', ylabel='Продажи в млн.шт.'>"
      ]
     },
     "execution_count": 18,
     "metadata": {},
     "output_type": "execute_result"
    },
    {
     "data": {
      "image/png": "[encoded data removed]",
      "text/plain": [
       "<Figure size 432x288 with 1 Axes>"
      ]
     },
     "metadata": {
      "needs_background": "light"
     },
     "output_type": "display_data"
    }
   ],
   "source": [
    "actual_pivot = actual_data.pivot_table(index='platform', values='sales', aggfunc='sum')\n",
    "actual_pivot = actual_pivot.sort_values('sales', ascending=False)\n",
    "actual_pivot.plot(kind='bar', title='Продажи по платформам за 3 года', xlabel='Платформы', ylabel='Продажи в млн.шт.')"
   ]
  },
  {
   "cell_type": "markdown",
   "metadata": {},
   "source": [
    "**Вывод** самые большие продажи у PS4 - 288.15\\\n",
    "XOne на втором метсе - 140.36 - в 2 раза меньше\\\n",
    "3DS - 86.6 - в 3 раза меньше лидера\n",
    "PS3 - 68.18 - больше, чем в 4 раза меньше продаж, чем у лидера.\n",
    "Но нужно посмотреть, как ведут себя за последние 3 года эти платформы - возможно, что они только начинают свои продажи, и в следующем году принесут больше выручки.\\\n",
    "построим график по каждой платформе\n"
   ]
  },
  {
   "cell_type": "code",
   "execution_count": 19,
   "metadata": {},
   "outputs": [
    {
     "data": {
      "image/png": "[encoded data removed]",
      "text/plain": [
       "<Figure size 1080x360 with 1 Axes>"
      ]
     },
     "metadata": {
      "needs_background": "light"
     },
     "output_type": "display_data"
    },
    {
     "data": {
      "text/html": [
       "<div>\n",
       "<style scoped>\n",
       "    .dataframe tbody tr th:only-of-type {\n",
       "        vertical-align: middle;\n",
       "    }\n",
       "\n",
       "    .dataframe tbody tr th {\n",
       "        vertical-align: top;\n",
       "    }\n",
       "\n",
       "    .dataframe thead th {\n",
       "        text-align: right;\n",
       "    }\n",
       "</style>\n",
       "<table border=\"1\" class=\"dataframe\">\n",
       "  <thead>\n",
       "    <tr style=\"text-align: right;\">\n",
       "      <th>platform</th>\n",
       "      <th>3DS</th>\n",
       "      <th>PC</th>\n",
       "      <th>PS3</th>\n",
       "      <th>PS4</th>\n",
       "      <th>PSP</th>\n",
       "      <th>PSV</th>\n",
       "      <th>Wii</th>\n",
       "      <th>WiiU</th>\n",
       "      <th>X360</th>\n",
       "      <th>XOne</th>\n",
       "    </tr>\n",
       "    <tr>\n",
       "      <th>year_of_release</th>\n",
       "      <th></th>\n",
       "      <th></th>\n",
       "      <th></th>\n",
       "      <th></th>\n",
       "      <th></th>\n",
       "      <th></th>\n",
       "      <th></th>\n",
       "      <th></th>\n",
       "      <th></th>\n",
       "      <th></th>\n",
       "    </tr>\n",
       "  </thead>\n",
       "  <tbody>\n",
       "    <tr>\n",
       "      <th>2014-01-01</th>\n",
       "      <td>43.76</td>\n",
       "      <td>13.28</td>\n",
       "      <td>47.76</td>\n",
       "      <td>100.00</td>\n",
       "      <td>0.24</td>\n",
       "      <td>11.90</td>\n",
       "      <td>3.75</td>\n",
       "      <td>22.03</td>\n",
       "      <td>34.74</td>\n",
       "      <td>54.07</td>\n",
       "    </tr>\n",
       "    <tr>\n",
       "      <th>2015-01-01</th>\n",
       "      <td>27.78</td>\n",
       "      <td>8.52</td>\n",
       "      <td>16.82</td>\n",
       "      <td>118.90</td>\n",
       "      <td>0.12</td>\n",
       "      <td>6.25</td>\n",
       "      <td>1.14</td>\n",
       "      <td>16.35</td>\n",
       "      <td>11.96</td>\n",
       "      <td>60.14</td>\n",
       "    </tr>\n",
       "    <tr>\n",
       "      <th>2016-01-01</th>\n",
       "      <td>15.14</td>\n",
       "      <td>5.25</td>\n",
       "      <td>3.60</td>\n",
       "      <td>69.25</td>\n",
       "      <td>NaN</td>\n",
       "      <td>4.25</td>\n",
       "      <td>0.18</td>\n",
       "      <td>4.60</td>\n",
       "      <td>1.52</td>\n",
       "      <td>26.15</td>\n",
       "    </tr>\n",
       "  </tbody>\n",
       "</table>\n",
       "</div>"
      ],
      "text/plain": [
       "platform           3DS     PC    PS3     PS4   PSP    PSV   Wii   WiiU   X360  \\\n",
       "year_of_release                                                                 \n",
       "2014-01-01       43.76  13.28  47.76  100.00  0.24  11.90  3.75  22.03  34.74   \n",
       "2015-01-01       27.78   8.52  16.82  118.90  0.12   6.25  1.14  16.35  11.96   \n",
       "2016-01-01       15.14   5.25   3.60   69.25   NaN   4.25  0.18   4.60   1.52   \n",
       "\n",
       "platform          XOne  \n",
       "year_of_release         \n",
       "2014-01-01       54.07  \n",
       "2015-01-01       60.14  \n",
       "2016-01-01       26.15  "
      ]
     },
     "execution_count": 19,
     "metadata": {},
     "output_type": "execute_result"
    }
   ],
   "source": [
    "last_data = actual_data.query('platform == [\"PS4\", \"XOne\",\"3DS\", \"PS3\", \"X360\", \"WiiU\", \"PC\", \"PSV\", \"Wii\", \"PSP\"]').pivot_table(index = 'year_of_release', columns = 'platform', values = 'sales', aggfunc = 'sum')\n",
    "last_data.plot(grid = True, figsize = (15,5), style = 'o-', xlabel = 'Год выпуска', ylabel = 'Объем продаж', label = 'Платформа') \n",
    "plt.title('Продажи по топ-10 платформам игр по годам') \n",
    "plt.show() \n",
    "last_data"
   ]
  },
  {
   "cell_type": "markdown",
   "metadata": {},
   "source": [
    "**Вывод**Из графика видим, что с маленькими продажами, но не теряя позиций идут платформв Wii, PSV, PS, PSP в 2016 году вообще не продавалась. Не стоит закупать игры на этой платформе в будущем году. Остальные платформы независимо от объёмов продаж просели к 2016 году. Возможно это связано с набором популярности игр не на представленных платформах (в качестве мобильных приложений)"
   ]
  },
  {
   "cell_type": "markdown",
   "metadata": {},
   "source": [
    "**Постройте график «ящик с усами» по глобальным продажам игр в разбивке по платформам. Опишите результат.**"
   ]
  },
  {
   "cell_type": "code",
   "execution_count": 20,
   "metadata": {},
   "outputs": [
    {
     "data": {
      "image/png": "[encoded data removed]",
      "text/plain": [
       "<Figure size 432x288 with 1 Axes>"
      ]
     },
     "metadata": {
      "needs_background": "light"
     },
     "output_type": "display_data"
    }
   ],
   "source": [
    "actual_data.boxplot(column='sales', by='platform')\n",
    "plt.xlabel('Платформы')\n",
    "plt.ylabel('Продажи')\n",
    "plt.title('Boxplot продаж по платформам')\n",
    "plt.ylim(0,1)\n",
    "plt.xticks(rotation=90)\n",
    "plt.show()"
   ]
  },
  {
   "cell_type": "markdown",
   "metadata": {},
   "source": [
    "**вывод**На графиках видим, что нормальные значения продаж растянулись у разных платформ от 0,01 млн шт до 0,75 млн.шт, медианные значения продаж у платформ Wii, WiiU, X360, XOne, PS4 - около 0,2 млн.шт, у PS3 - 0,1 ,PC - 0,09 , 3DS - 0,08. PSP и PSV маленькие распределения и медианы на 0,01 и 0,02 млн шт за выбранный период."
   ]
  },
  {
   "cell_type": "markdown",
   "metadata": {},
   "source": [
    "**3.7 Посмотрите, как влияют на продажи внутри одной популярной платформы отзывы пользователей и критиков. Постройте диаграмму рассеяния и посчитайте корреляцию между отзывами и продажами. Сформулируйте выводы.**"
   ]
  },
  {
   "cell_type": "markdown",
   "metadata": {},
   "source": [
    "Возьмём самую популярную платформу последних 3х лет - PS4\n",
    "построим диаграмму рассеяния"
   ]
  },
  {
   "cell_type": "code",
   "execution_count": 21,
   "metadata": {},
   "outputs": [],
   "source": [
    "#удалим из датафрейма значения-заглушки\n",
    "actual_data_score = actual_data[actual_data['critic_score']!=-1]\n",
    "actual_data_score = actual_data_score.dropna(subset=['critic_score'])\n",
    "actual_data_score = actual_data_score.dropna(subset=['user_score'])"
   ]
  },
  {
   "cell_type": "code",
   "execution_count": 22,
   "metadata": {},
   "outputs": [
    {
     "data": {
      "image/png": "[encoded data removed]",
      "text/plain": [
       "<Figure size 432x288 with 1 Axes>"
      ]
     },
     "metadata": {
      "needs_background": "light"
     },
     "output_type": "display_data"
    },
    {
     "name": "stdout",
     "output_type": "stream",
     "text": [
      "Корреляция Пирсона: 0.40190287811475334\n"
     ]
    }
   ],
   "source": [
    "ps4_data = actual_data_score[actual_data_score['platform'] == 'PS4']\n",
    "ps4_data = ps4_data.dropna(subset=['critic_score'])\n",
    "ps4_data.plot.scatter(x='critic_score', y='sales', alpha=0.5)\n",
    "plt.xlabel('Critic Score')\n",
    "plt.ylabel('Sales')\n",
    "plt.title('Scatter Plot: Critic Score vs Sales (PS4)')\n",
    "plt.show()\n",
    "\n",
    "print('Корреляция Пирсона:', ps4_data['critic_score'].corr(ps4_data['sales']) )"
   ]
  },
  {
   "cell_type": "markdown",
   "metadata": {},
   "source": [
    "**Вывод** 0,40 - умеренная зависимость есть"
   ]
  },
  {
   "cell_type": "markdown",
   "metadata": {},
   "source": [
    "построим график рассеяния и узнаем зависимость продаж от оценок пользователей"
   ]
  },
  {
   "cell_type": "code",
   "execution_count": 23,
   "metadata": {},
   "outputs": [
    {
     "data": {
      "image/png": "[encoded data removed]",
      "text/plain": [
       "<Figure size 432x288 with 1 Axes>"
      ]
     },
     "metadata": {
      "needs_background": "light"
     },
     "output_type": "display_data"
    },
    {
     "name": "stdout",
     "output_type": "stream",
     "text": [
      "Корреляция Пирсона: -0.04318585997193634\n"
     ]
    }
   ],
   "source": [
    "ps4_data = actual_data_score[actual_data_score['platform'] == 'PS4']\n",
    "ps4_data.plot.scatter(x='user_score', y='sales', alpha=0.5)\n",
    "plt.xlabel('Оценки пользователей')\n",
    "plt.ylabel('Продажи')\n",
    "plt.title('Зависимость продаж от оценок пользователей  (PS4)')\n",
    "plt.show()\n",
    "\n",
    "print('Корреляция Пирсона:', ps4_data['user_score'].corr(ps4_data['sales']) )"
   ]
  },
  {
   "cell_type": "markdown",
   "metadata": {},
   "source": [
    "**3.8 Соотнесите выводы с продажами игр на других платформах.**"
   ]
  },
  {
   "cell_type": "code",
   "execution_count": 24,
   "metadata": {},
   "outputs": [
    {
     "data": {
      "image/png": "[encoded data removed]",
      "text/plain": [
       "<Figure size 432x288 with 1 Axes>"
      ]
     },
     "metadata": {
      "needs_background": "light"
     },
     "output_type": "display_data"
    },
    {
     "name": "stdout",
     "output_type": "stream",
     "text": [
      "Корреляция Пирсона: 0.42211185105557647\n"
     ]
    },
    {
     "data": {
      "image/png": "[encoded data removed]",
      "text/plain": [
       "<Figure size 432x288 with 1 Axes>"
      ]
     },
     "metadata": {
      "needs_background": "light"
     },
     "output_type": "display_data"
    },
    {
     "name": "stdout",
     "output_type": "stream",
     "text": [
      "Корреляция Пирсона: -0.0917343450331075\n"
     ]
    }
   ],
   "source": [
    "xone_data = actual_data_score[actual_data_score['platform'] == 'XOne']\n",
    "xone_data.plot.scatter(x='critic_score', y='sales', alpha=0.5)\n",
    "plt.xlabel('оценки критиков')\n",
    "plt.ylabel('продажи')\n",
    "plt.title('Зависимость рейтинга критиков на продажи (XOne)')\n",
    "plt.show()\n",
    "\n",
    "print('Корреляция Пирсона:', xone_data['critic_score'].corr(xone_data['sales']) )\n",
    "\n",
    "xone_data.plot.scatter(x='user_score', y='sales', alpha=0.5)\n",
    "plt.xlabel('оценки пользователей')\n",
    "plt.ylabel('продажи')\n",
    "plt.title('зависимость рейтинга пользователей на продажи (XOne)')\n",
    "plt.show()\n",
    "\n",
    "print('Корреляция Пирсона:', xone_data['user_score'].corr(xone_data['sales']))\n"
   ]
  },
  {
   "cell_type": "markdown",
   "metadata": {},
   "source": [
    "**вывод** У XOne зависимость от отзывов критиков есть средняя 0,42, от отзывов пользователей поти нет."
   ]
  },
  {
   "cell_type": "code",
   "execution_count": 25,
   "metadata": {},
   "outputs": [
    {
     "data": {
      "image/png": "[encoded data removed]",
      "text/plain": [
       "<Figure size 432x288 with 1 Axes>"
      ]
     },
     "metadata": {
      "needs_background": "light"
     },
     "output_type": "display_data"
    },
    {
     "name": "stdout",
     "output_type": "stream",
     "text": [
      "Корреляция Пирсона: 0.28468579095782925\n"
     ]
    },
    {
     "data": {
      "image/png": "[encoded data removed]",
      "text/plain": [
       "<Figure size 432x288 with 1 Axes>"
      ]
     },
     "metadata": {
      "needs_background": "light"
     },
     "output_type": "display_data"
    },
    {
     "name": "stdout",
     "output_type": "stream",
     "text": [
      "Корреляция Пирсона: 0.2798498792503281\n"
     ]
    }
   ],
   "source": [
    "ds_data = actual_data_score[actual_data_score['platform'] == '3DS']\n",
    "\n",
    "ds_data.plot.scatter(x='critic_score', y='sales')\n",
    "plt.xlabel('Critic Score')\n",
    "plt.ylabel('Sales')\n",
    "plt.title('Зависимость рейтинга критиков на продажи (3DS)')\n",
    "plt.show()\n",
    "\n",
    "print('Корреляция Пирсона:', ds_data['critic_score'].corr(ds_data['sales']) )\n",
    "\n",
    "ds_data.plot.scatter(x='user_score', y='sales')\n",
    "plt.xlabel('user Score')\n",
    "plt.ylabel('Sales')\n",
    "plt.title('зависимость рейтинга пользователей на продажи (3DS)')\n",
    "plt.show()\n",
    "\n",
    "print('Корреляция Пирсона:', ds_data['user_score'].corr(ds_data['sales']))\n"
   ]
  },
  {
   "cell_type": "markdown",
   "metadata": {},
   "source": [
    "Зависимости от оценок критиков слабая (корр. 0,28), зависимость от оценок пользователей - слабая (0,27)."
   ]
  },
  {
   "cell_type": "code",
   "execution_count": 26,
   "metadata": {},
   "outputs": [
    {
     "data": {
      "image/png": "[encoded data removed]",
      "text/plain": [
       "<Figure size 432x288 with 1 Axes>"
      ]
     },
     "metadata": {
      "needs_background": "light"
     },
     "output_type": "display_data"
    },
    {
     "name": "stdout",
     "output_type": "stream",
     "text": [
      "Корреляция Пирсона: 0.44657460493190704\n"
     ]
    },
    {
     "data": {
      "image/png": "[encoded data removed]",
      "text/plain": [
       "<Figure size 432x288 with 1 Axes>"
      ]
     },
     "metadata": {
      "needs_background": "light"
     },
     "output_type": "display_data"
    },
    {
     "name": "stdout",
     "output_type": "stream",
     "text": [
      "Корреляция Пирсона: 0.15659516181359956\n"
     ]
    }
   ],
   "source": [
    "ps3_data = actual_data_score[actual_data_score['platform'] == 'PS3']\n",
    "ps3_data = ps3_data.dropna(subset=['critic_score'])\n",
    "ps3_data = ps3_data.dropna(subset=['user_score'])\n",
    "ps3_data.plot.scatter(x='critic_score', y='sales')\n",
    "plt.xlabel('Оценки критиков')\n",
    "plt.ylabel('продажи')\n",
    "plt.title('Зависимость рейтинга критиков на продажи (PS3)')\n",
    "plt.show()\n",
    "\n",
    "print('Корреляция Пирсона:', ps3_data['critic_score'].corr(ps3_data['sales']) )\n",
    "\n",
    "ps3_data.plot.scatter(x='user_score', y='sales')\n",
    "plt.xlabel('оценки пользователей')\n",
    "plt.ylabel('продажи')\n",
    "plt.title('зависимость рейтинга пользователей на продажи (XOne)')\n",
    "plt.show()\n",
    "\n",
    "print('Корреляция Пирсона:', ps3_data['user_score'].corr(ps3_data['sales']))\n"
   ]
  },
  {
   "cell_type": "markdown",
   "metadata": {},
   "source": [
    "От оценок критиков - зависимость средняя (0,44), от оценок пользователей - слабая (0,15)"
   ]
  },
  {
   "cell_type": "code",
   "execution_count": 27,
   "metadata": {},
   "outputs": [
    {
     "data": {
      "image/png": "[encoded data removed]",
      "text/plain": [
       "<Figure size 432x288 with 1 Axes>"
      ]
     },
     "metadata": {
      "needs_background": "light"
     },
     "output_type": "display_data"
    },
    {
     "name": "stdout",
     "output_type": "stream",
     "text": [
      "Корреляция Пирсона: 0.42211185105557647\n"
     ]
    },
    {
     "data": {
      "image/png": "[encoded data removed]",
      "text/plain": [
       "<Figure size 432x288 with 1 Axes>"
      ]
     },
     "metadata": {
      "needs_background": "light"
     },
     "output_type": "display_data"
    },
    {
     "name": "stdout",
     "output_type": "stream",
     "text": [
      "Корреляция Пирсона: 0.33651362483599345\n"
     ]
    }
   ],
   "source": [
    "x360_data = actual_data_score[actual_data_score['platform'] == 'X360']\n",
    "x360_data.plot.scatter(x='critic_score', y='sales')\n",
    "plt.xlabel('Оценки критиков')\n",
    "plt.ylabel('продажи')\n",
    "plt.title('Зависимость рейтинга критиков на продажи (X360)')\n",
    "plt.show()\n",
    "\n",
    "print('Корреляция Пирсона:', xone_data['critic_score'].corr(xone_data['sales']) )\n",
    "\n",
    "x360_data.plot.scatter(x='user_score', y='sales')\n",
    "plt.xlabel('оценки пользователей')\n",
    "plt.ylabel('продажи')\n",
    "plt.title('зависимость рейтинга пользователей на продажи (X360)')\n",
    "plt.show()\n",
    "\n",
    "print('Корреляция Пирсона:', x360_data['user_score'].corr(x360_data['sales']))\n"
   ]
  },
  {
   "cell_type": "markdown",
   "metadata": {},
   "source": [
    "Зависимость от оценок критиков средняя (0,42), зависимость от оценок пользователей средняя (0,33)."
   ]
  },
  {
   "cell_type": "code",
   "execution_count": 28,
   "metadata": {},
   "outputs": [
    {
     "data": {
      "image/png": "[encoded data removed]",
      "text/plain": [
       "<Figure size 432x288 with 1 Axes>"
      ]
     },
     "metadata": {
      "needs_background": "light"
     },
     "output_type": "display_data"
    },
    {
     "name": "stdout",
     "output_type": "stream",
     "text": [
      "Корреляция Пирсона: 0.42211185105557647\n"
     ]
    },
    {
     "data": {
      "image/png": "[encoded data removed]",
      "text/plain": [
       "<Figure size 432x288 with 1 Axes>"
      ]
     },
     "metadata": {
      "needs_background": "light"
     },
     "output_type": "display_data"
    },
    {
     "name": "stdout",
     "output_type": "stream",
     "text": [
      "Корреляция Пирсона: 0.4114513876908575\n"
     ]
    }
   ],
   "source": [
    "wiiu_data = actual_data_score[actual_data_score['platform'] == 'WiiU']\n",
    "wiiu_data=wiiu_data.dropna(subset=['critic_score'])\n",
    "wiiu_data=wiiu_data.dropna(subset=['user_score'])\n",
    "wiiu_data.plot.scatter(x='critic_score', y='sales')\n",
    "plt.xlabel('Оценки критиков')\n",
    "plt.ylabel('продажи')\n",
    "plt.title('Зависимость рейтинга критиков на продажи (WiiU)')\n",
    "plt.show()\n",
    "\n",
    "print('Корреляция Пирсона:', xone_data['critic_score'].corr(xone_data['sales']) )\n",
    "\n",
    "wiiu_data.plot.scatter(x='user_score', y='sales')\n",
    "plt.xlabel('оценки пользователей')\n",
    "plt.ylabel('Продажи')\n",
    "plt.title('зависимость рейтинга пользователей на продажи (WiiU)')\n",
    "plt.show()\n",
    "\n",
    "print('Корреляция Пирсона:', wiiu_data['user_score'].corr(wiiu_data['sales']))\n"
   ]
  },
  {
   "cell_type": "markdown",
   "metadata": {},
   "source": [
    "Зависимость от оценок критиков - умеренная (0,42), от оценок пользователей - умеренная(0,41)"
   ]
  },
  {
   "cell_type": "code",
   "execution_count": 29,
   "metadata": {},
   "outputs": [
    {
     "data": {
      "image/png": "[encoded data removed]",
      "text/plain": [
       "<Figure size 432x288 with 1 Axes>"
      ]
     },
     "metadata": {
      "needs_background": "light"
     },
     "output_type": "display_data"
    },
    {
     "name": "stdout",
     "output_type": "stream",
     "text": [
      "Корреляция Пирсона: 0.17206091490145103\n"
     ]
    },
    {
     "data": {
      "image/png": "[encoded data removed]",
      "text/plain": [
       "<Figure size 432x288 with 1 Axes>"
      ]
     },
     "metadata": {
      "needs_background": "light"
     },
     "output_type": "display_data"
    },
    {
     "name": "stdout",
     "output_type": "stream",
     "text": [
      "Корреляция Пирсона: -0.08997391228554938\n"
     ]
    }
   ],
   "source": [
    "pc_data = actual_data_score[actual_data_score['platform'] == 'PC']\n",
    "pc_data=pc_data.dropna(subset=['critic_score'])\n",
    "pc_data=pc_data.dropna(subset=['user_score'])\n",
    "pc_data.plot.scatter(x='critic_score', y='sales')\n",
    "plt.xlabel('Critic Score')\n",
    "plt.ylabel('Sales')\n",
    "plt.title('Зависимость рейтинга критиков на продажи (PC)')\n",
    "plt.show()\n",
    "\n",
    "print('Корреляция Пирсона:', pc_data['critic_score'].corr(pc_data['sales']) )\n",
    "\n",
    "pc_data.plot.scatter(x='user_score', y='sales')\n",
    "plt.xlabel('user Score')\n",
    "plt.ylabel('Sales')\n",
    "plt.title('зависимость рейтинга пользователей на продажи (PC)')\n",
    "plt.show()\n",
    "\n",
    "print('Корреляция Пирсона:', pc_data['user_score'].corr(pc_data['sales']))\n"
   ]
  },
  {
   "cell_type": "markdown",
   "metadata": {},
   "source": [
    "Зависимость от оценок критиков слабая, от оценок пользователей - не обнаружена."
   ]
  },
  {
   "cell_type": "code",
   "execution_count": 30,
   "metadata": {},
   "outputs": [
    {
     "data": {
      "image/png": "[encoded data removed]",
      "text/plain": [
       "<Figure size 432x288 with 1 Axes>"
      ]
     },
     "metadata": {
      "needs_background": "light"
     },
     "output_type": "display_data"
    },
    {
     "name": "stdout",
     "output_type": "stream",
     "text": [
      "Корреляция Пирсона: 0.04102908974171329\n"
     ]
    },
    {
     "data": {
      "image/png": "[encoded data removed]",
      "text/plain": [
       "<Figure size 432x288 with 1 Axes>"
      ]
     },
     "metadata": {
      "needs_background": "light"
     },
     "output_type": "display_data"
    },
    {
     "name": "stdout",
     "output_type": "stream",
     "text": [
      "Корреляция Пирсона: 0.023528216599023048\n"
     ]
    }
   ],
   "source": [
    "psv_data = actual_data_score[actual_data_score['platform'] == 'PSV']\n",
    "psv_data.plot.scatter(x='critic_score', y='sales')\n",
    "plt.xlabel('Оценки критиков')\n",
    "plt.ylabel('Продажи')\n",
    "plt.title('Зависимость рейтинга критиков на продажи (PSV)')\n",
    "plt.show()\n",
    "\n",
    "print('Корреляция Пирсона:', psv_data['critic_score'].corr(psv_data['sales']) )\n",
    "\n",
    "psv_data.plot.scatter(x='user_score', y='sales')\n",
    "plt.xlabel('оценки пользователей')\n",
    "plt.ylabel('продажи')\n",
    "plt.title('зависимость рейтинга пользователей на продажи (PSV)')\n",
    "plt.show()\n",
    "\n",
    "print('Корреляция Пирсона:', psv_data['user_score'].corr(psv_data['sales']))"
   ]
  },
  {
   "cell_type": "markdown",
   "metadata": {},
   "source": [
    "Зависимости от оценок критиков и пользователей нет"
   ]
  },
  {
   "cell_type": "code",
   "execution_count": 31,
   "metadata": {},
   "outputs": [
    {
     "data": {
      "image/png": "[encoded data removed]",
      "text/plain": [
       "<Figure size 432x288 with 1 Axes>"
      ]
     },
     "metadata": {
      "needs_background": "light"
     },
     "output_type": "display_data"
    },
    {
     "name": "stdout",
     "output_type": "stream",
     "text": [
      "Корреляция Пирсона: nan\n"
     ]
    },
    {
     "data": {
      "image/png": "[encoded data removed]",
      "text/plain": [
       "<Figure size 432x288 with 1 Axes>"
      ]
     },
     "metadata": {
      "needs_background": "light"
     },
     "output_type": "display_data"
    },
    {
     "name": "stdout",
     "output_type": "stream",
     "text": [
      "Корреляция Пирсона: nan\n"
     ]
    },
    {
     "data": {
      "text/html": [
       "<div>\n",
       "<style scoped>\n",
       "    .dataframe tbody tr th:only-of-type {\n",
       "        vertical-align: middle;\n",
       "    }\n",
       "\n",
       "    .dataframe tbody tr th {\n",
       "        vertical-align: top;\n",
       "    }\n",
       "\n",
       "    .dataframe thead th {\n",
       "        text-align: right;\n",
       "    }\n",
       "</style>\n",
       "<table border=\"1\" class=\"dataframe\">\n",
       "  <thead>\n",
       "    <tr style=\"text-align: right;\">\n",
       "      <th></th>\n",
       "      <th>name</th>\n",
       "      <th>platform</th>\n",
       "      <th>year_of_release</th>\n",
       "      <th>genre</th>\n",
       "      <th>na_sales</th>\n",
       "      <th>eu_sales</th>\n",
       "      <th>jp_sales</th>\n",
       "      <th>other_sales</th>\n",
       "      <th>critic_score</th>\n",
       "      <th>user_score</th>\n",
       "      <th>rating</th>\n",
       "      <th>sales</th>\n",
       "    </tr>\n",
       "  </thead>\n",
       "  <tbody>\n",
       "  </tbody>\n",
       "</table>\n",
       "</div>"
      ],
      "text/plain": [
       "Empty DataFrame\n",
       "Columns: [name, platform, year_of_release, genre, na_sales, eu_sales, jp_sales, other_sales, critic_score, user_score, rating, sales]\n",
       "Index: []"
      ]
     },
     "execution_count": 31,
     "metadata": {},
     "output_type": "execute_result"
    }
   ],
   "source": [
    "wii_data = actual_data_score[actual_data_score['platform'] == 'Wii']\n",
    "\n",
    "wii_data.plot.scatter(x='critic_score', y='sales')\n",
    "plt.xlabel('оценки критиков')\n",
    "plt.ylabel('продажи')\n",
    "plt.title('Зависимость рейтинга критиков на продажи (Wii)')\n",
    "plt.show()\n",
    "\n",
    "print('Корреляция Пирсона:', wii_data['critic_score'].corr(wii_data['sales']) )\n",
    "\n",
    "wii_data.plot.scatter(x='user_score', y='sales')\n",
    "plt.xlabel('оценки пользователей')\n",
    "plt.ylabel('продажи')\n",
    "plt.title('зависимость рейтинга пользователей на продажи (Wii)')\n",
    "plt.show()\n",
    "\n",
    "print('Корреляция Пирсона:', wii_data['user_score'].corr(wii_data['sales']))\n",
    "\n",
    "wii_data.head()"
   ]
  },
  {
   "cell_type": "markdown",
   "metadata": {},
   "source": [
    "Оценки критиков у этой платформы отсутствуют, поэтому корреляцию вывести невозможно."
   ]
  },
  {
   "cell_type": "code",
   "execution_count": 32,
   "metadata": {},
   "outputs": [
    {
     "data": {
      "image/png": "[encoded data removed]",
      "text/plain": [
       "<Figure size 432x288 with 1 Axes>"
      ]
     },
     "metadata": {
      "needs_background": "light"
     },
     "output_type": "display_data"
    },
    {
     "name": "stdout",
     "output_type": "stream",
     "text": [
      "Корреляция Пирсона: nan\n"
     ]
    },
    {
     "data": {
      "image/png": "[encoded data removed]",
      "text/plain": [
       "<Figure size 432x288 with 1 Axes>"
      ]
     },
     "metadata": {
      "needs_background": "light"
     },
     "output_type": "display_data"
    },
    {
     "name": "stdout",
     "output_type": "stream",
     "text": [
      "Корреляция Пирсона: nan\n"
     ]
    }
   ],
   "source": [
    "psp_data = actual_data_score[actual_data_score['platform'] == 'PSP']\n",
    "\n",
    "psp_data.plot.scatter(x='critic_score', y='sales')\n",
    "plt.xlabel('Оценки критиков')\n",
    "plt.ylabel('продажи')\n",
    "plt.title('Зависимость рейтинга критиков на продажи (PSP)')\n",
    "plt.show()\n",
    "\n",
    "print('Корреляция Пирсона:', psp_data['critic_score'].corr(psp_data['sales']) )\n",
    "\n",
    "wii_data.plot.scatter(x='user_score', y='sales')\n",
    "plt.xlabel('оценки пользователей')\n",
    "plt.ylabel('продажи')\n",
    "plt.title('зависимость рейтинга пользователей на продажи (PSP)')\n",
    "plt.show()\n",
    "\n",
    "print('Корреляция Пирсона:', psp_data['user_score'].corr(psp_data['sales']))"
   ]
  },
  {
   "cell_type": "markdown",
   "metadata": {},
   "source": [
    "У платформы PSP отсутствуют оценки как критиков, так и пользователей, поэтому зависимость вывести невозможно."
   ]
  },
  {
   "cell_type": "markdown",
   "metadata": {},
   "source": [
    "**Вывод** У всех платформ, где достаточно оценок есть умеренная зависимость от оценок критиков и нет или очень слабая от оценок пользователей. Значит отправлять новые игры критикам на обзор полезно для их успешных продаж"
   ]
  },
  {
   "cell_type": "markdown",
   "metadata": {},
   "source": [
    "**3.9 Посмотрите на общее распределение игр по жанрам. Что можно сказать о самых прибыльных жанрах? Выделяются ли жанры с высокими и низкими продажами?**"
   ]
  },
  {
   "cell_type": "code",
   "execution_count": 33,
   "metadata": {
    "scrolled": true
   },
   "outputs": [
    {
     "data": {
      "text/html": [
       "<div>\n",
       "<style scoped>\n",
       "    .dataframe tbody tr th:only-of-type {\n",
       "        vertical-align: middle;\n",
       "    }\n",
       "\n",
       "    .dataframe tbody tr th {\n",
       "        vertical-align: top;\n",
       "    }\n",
       "\n",
       "    .dataframe thead th {\n",
       "        text-align: right;\n",
       "    }\n",
       "</style>\n",
       "<table border=\"1\" class=\"dataframe\">\n",
       "  <thead>\n",
       "    <tr style=\"text-align: right;\">\n",
       "      <th></th>\n",
       "      <th>sales</th>\n",
       "    </tr>\n",
       "    <tr>\n",
       "      <th>genre</th>\n",
       "      <th></th>\n",
       "    </tr>\n",
       "  </thead>\n",
       "  <tbody>\n",
       "    <tr>\n",
       "      <th>Shooter</th>\n",
       "      <td>1.335469</td>\n",
       "    </tr>\n",
       "    <tr>\n",
       "      <th>Sports</th>\n",
       "      <td>0.680000</td>\n",
       "    </tr>\n",
       "    <tr>\n",
       "      <th>Platform</th>\n",
       "      <td>0.476053</td>\n",
       "    </tr>\n",
       "    <tr>\n",
       "      <th>Fighting</th>\n",
       "      <td>0.470333</td>\n",
       "    </tr>\n",
       "    <tr>\n",
       "      <th>Role-Playing</th>\n",
       "      <td>0.459005</td>\n",
       "    </tr>\n",
       "  </tbody>\n",
       "</table>\n",
       "</div>"
      ],
      "text/plain": [
       "                 sales\n",
       "genre                 \n",
       "Shooter       1.335469\n",
       "Sports        0.680000\n",
       "Platform      0.476053\n",
       "Fighting      0.470333\n",
       "Role-Playing  0.459005"
      ]
     },
     "execution_count": 33,
     "metadata": {},
     "output_type": "execute_result"
    },
    {
     "data": {
      "image/png": "[encoded data removed]",
      "text/plain": [
       "<Figure size 432x288 with 1 Axes>"
      ]
     },
     "metadata": {
      "needs_background": "light"
     },
     "output_type": "display_data"
    }
   ],
   "source": [
    "genre_pivot_table = actual_data.pivot_table(index='genre', values='sales', aggfunc='mean')\n",
    "genre_pivot_table = genre_pivot_table.sort_values(by='sales', ascending=False)\n",
    "genre_pivot_table.plot(kind='bar', title='медианные продажи по жанрам', xlabel='жанры', ylabel='продажи в млн.шт.')\n",
    "genre_pivot_table.head()\n"
   ]
  },
  {
   "cell_type": "markdown",
   "metadata": {},
   "source": [
    "**вывод** Самые успешные продажи у шутеров (shooter),в 2 раза меньшу у sports, далее platform, Fighting и Role-playing на одном уровне, чуть ниже racing."
   ]
  },
  {
   "cell_type": "markdown",
   "metadata": {},
   "source": []
  },
  {
   "cell_type": "markdown",
   "metadata": {},
   "source": []
  },
  {
   "cell_type": "markdown",
   "metadata": {},
   "source": [
    "**Шаг 4. Составьте портрет пользователя каждого региона**\n",
    "\n",
    " Определите для пользователя каждого региона (NA, EU, JP):\n",
    "\n",
    "4.1 Самые популярные платформы (топ-5). Опишите различия в долях продаж.\n",
    "\n",
    "4.2 Самые популярные жанры (топ-5). Поясните разницу.\n",
    "\n",
    "4.3 Влияет ли рейтинг ESRB на продажи в отдельном регионе?"
   ]
  },
  {
   "cell_type": "markdown",
   "metadata": {},
   "source": [
    "**Определим портрет пользователя Северной Америки** "
   ]
  },
  {
   "cell_type": "markdown",
   "metadata": {},
   "source": [
    "узнаем самые популярные платформы"
   ]
  },
  {
   "cell_type": "code",
   "execution_count": 34,
   "metadata": {},
   "outputs": [
    {
     "data": {
      "text/plain": [
       "<AxesSubplot:title={'center':'популярные платформы в Северной Америке'}, ylabel='na_sales'>"
      ]
     },
     "execution_count": 34,
     "metadata": {},
     "output_type": "execute_result"
    },
    {
     "data": {
      "image/png": "[encoded data removed]",
      "text/plain": [
       "<Figure size 432x288 with 1 Axes>"
      ]
     },
     "metadata": {},
     "output_type": "display_data"
    }
   ],
   "source": [
    "platform_na = actual_data.pivot_table(index='platform', values='na_sales', aggfunc='mean')\n",
    "platform_na = platform_na.sort_values('na_sales', ascending=False)\n",
    "platform_na_top = platform_na.head(5)\n",
    "#platform_na_top['other'] = sum[platform_na['3DS','PS3', 'PS', 'PSV','PSP']] \n",
    "platform_na_top.plot(kind='pie', title='популярные платформы в Северной Америке', y='na_sales', autopct='%1.0f%%', )"
   ]
  },
  {
   "cell_type": "markdown",
   "metadata": {},
   "source": [
    "Узнаем самые популярные жанры"
   ]
  },
  {
   "cell_type": "code",
   "execution_count": 35,
   "metadata": {},
   "outputs": [
    {
     "data": {
      "text/plain": [
       "<AxesSubplot:title={'center':'популярные жанры у пользователей Северной Америки'}, ylabel='na_sales'>"
      ]
     },
     "execution_count": 35,
     "metadata": {},
     "output_type": "execute_result"
    },
    {
     "data": {
      "image/png": "[encoded data removed]",
      "text/plain": [
       "<Figure size 432x288 with 1 Axes>"
      ]
     },
     "metadata": {},
     "output_type": "display_data"
    }
   ],
   "source": [
    "genre_na = actual_data.pivot_table(index='genre', values='na_sales', aggfunc='mean').sort_values('na_sales', ascending=False)\n",
    "genre_na_top = genre_na.head(5)\n",
    "\n",
    "genre_na_top.plot(kind='pie', title = 'популярные жанры у пользователей Северной Америки', y='na_sales', autopct='%1.0f%%')"
   ]
  },
  {
   "cell_type": "markdown",
   "metadata": {},
   "source": [
    "Влияет ли рейтинг ESRB на продажи в Северной Америке"
   ]
  },
  {
   "cell_type": "code",
   "execution_count": 36,
   "metadata": {},
   "outputs": [
    {
     "data": {
      "text/plain": [
       "<AxesSubplot:title={'center':'Продажи по  рейтингам в Северной Америке'}, ylabel='na_sales'>"
      ]
     },
     "execution_count": 36,
     "metadata": {},
     "output_type": "execute_result"
    },
    {
     "data": {
      "image/png": "[encoded data removed]",
      "text/plain": [
       "<Figure size 432x288 with 1 Axes>"
      ]
     },
     "metadata": {},
     "output_type": "display_data"
    }
   ],
   "source": [
    "rating_na = actual_data.pivot_table(index='rating', values='na_sales', aggfunc='sum')\n",
    "rating_na.plot(kind='pie', y='na_sales', title='Продажи по  рейтингам в Северной Америке', autopct='%1.0f%%')"
   ]
  },
  {
   "cell_type": "markdown",
   "metadata": {},
   "source": [
    "**Портрет пользователя из Северной Америки: у него самые популярные платформы - PS4 и XOne, жанры - shooter(43%), sports(20%), fighting - 14%, platform и role-plaining по 12 и 11%, больше всего продаётся игр с рейтингом ESRB - M (Подходит для лиц старше 17 лет) - 34% и без рейтинга - 21%, E - 18%, Т - 14% и Е10+ - 12%**"
   ]
  },
  {
   "cell_type": "markdown",
   "metadata": {},
   "source": [
    "**Составим портрет пользователя Евросоюза"
   ]
  },
  {
   "cell_type": "code",
   "execution_count": 37,
   "metadata": {},
   "outputs": [
    {
     "data": {
      "text/plain": [
       "<AxesSubplot:title={'center':'продажи платформ у пользователей Европы'}, ylabel='eu_sales'>"
      ]
     },
     "execution_count": 37,
     "metadata": {},
     "output_type": "execute_result"
    },
    {
     "data": {
      "image/png": "[encoded data removed]",
      "text/plain": [
       "<Figure size 432x288 with 1 Axes>"
      ]
     },
     "metadata": {},
     "output_type": "display_data"
    }
   ],
   "source": [
    "platform_eu = actual_data.pivot_table(index='platform', values='eu_sales', aggfunc='mean')\n",
    "platform_eu = platform_eu.sort_values('eu_sales', ascending=False)\n",
    "platform_eu_top = platform_eu.head(5)\n",
    "platform_eu_top.plot(kind='pie', title = 'продажи платформ у пользователей Европы', y='eu_sales', autopct='%1.0f%%')"
   ]
  },
  {
   "cell_type": "code",
   "execution_count": 38,
   "metadata": {},
   "outputs": [
    {
     "data": {
      "text/plain": [
       "<AxesSubplot:title={'center':'популярные жанры у пользователей Европы'}, ylabel='eu_sales'>"
      ]
     },
     "execution_count": 38,
     "metadata": {},
     "output_type": "execute_result"
    },
    {
     "data": {
      "image/png": "[encoded data removed]",
      "text/plain": [
       "<Figure size 432x288 with 1 Axes>"
      ]
     },
     "metadata": {},
     "output_type": "display_data"
    }
   ],
   "source": [
    "#график по жанрам\n",
    "platform_eu = actual_data.pivot_table(index='genre', values='eu_sales', aggfunc='mean')\n",
    "platform_eu = platform_eu.sort_values('eu_sales', ascending=False)\n",
    "platform_eu_top = platform_eu.head(5)\n",
    "platform_eu_top.plot(kind='pie', title = 'популярные жанры у пользователей Европы', y='eu_sales', autopct='%1.0f%%')"
   ]
  },
  {
   "cell_type": "code",
   "execution_count": 39,
   "metadata": {
    "scrolled": true
   },
   "outputs": [
    {
     "data": {
      "text/plain": [
       "<AxesSubplot:title={'center':'Продажи по рейтингу в Европе'}, ylabel='eu_sales'>"
      ]
     },
     "execution_count": 39,
     "metadata": {},
     "output_type": "execute_result"
    },
    {
     "data": {
      "image/png": "[encoded data removed]",
      "text/plain": [
       "<Figure size 432x288 with 1 Axes>"
      ]
     },
     "metadata": {},
     "output_type": "display_data"
    }
   ],
   "source": [
    "rating_eu = actual_data.pivot_table(index='rating', values='eu_sales', aggfunc='sum')\n",
    "rating_eu = rating_eu.sort_values('eu_sales', ascending=False)\n",
    "rating_eu_top = rating_eu.head(5)\n",
    "rating_eu.plot(kind='pie', y='eu_sales', title='Продажи по рейтингу в Европе', autopct='%1.0f%%')\n"
   ]
  },
  {
   "cell_type": "markdown",
   "metadata": {},
   "source": [
    "**Портрет европейского пользователя: Пользуется в основном PS4 (55%), 20% пользователей XOne, остальные представлены совсем по маленьку, на первом месте по продажам жанры - shooter(36%), на втором -  - sports(21%), 3 - rasing(15%). Преобладают игры с рейтингом M(с 17 лет) - 35%, E (для всех возрастных категорий) и игры без рейтинга составляют по 21-22%, Т и Е10+ представлены почти одинаково по 13 и 10%**"
   ]
  },
  {
   "cell_type": "markdown",
   "metadata": {},
   "source": [
    "**Составим портрет пользователя JP**"
   ]
  },
  {
   "cell_type": "code",
   "execution_count": 40,
   "metadata": {},
   "outputs": [
    {
     "data": {
      "text/plain": [
       "<AxesSubplot:title={'center':'продажи платформ у пользователей Японии'}, ylabel='jp_sales'>"
      ]
     },
     "execution_count": 40,
     "metadata": {},
     "output_type": "execute_result"
    },
    {
     "data": {
      "image/png": "[encoded data removed]",
      "text/plain": [
       "<Figure size 432x288 with 1 Axes>"
      ]
     },
     "metadata": {},
     "output_type": "display_data"
    }
   ],
   "source": [
    "platform_jp = actual_data.pivot_table(index='platform', values='jp_sales', aggfunc='sum')\n",
    "platform_jp = platform_jp.sort_values('jp_sales', ascending=False)\n",
    "platform_jp_top = platform_jp.head(5)\n",
    "platform_jp_top.plot(kind='pie', title = 'продажи платформ у пользователей Японии', y='jp_sales', autopct='%1.0f%%')"
   ]
  },
  {
   "cell_type": "code",
   "execution_count": 41,
   "metadata": {},
   "outputs": [
    {
     "data": {
      "text/plain": [
       "<AxesSubplot:title={'center':'популярные жанры у пользователей Японии'}, ylabel='jp_sales'>"
      ]
     },
     "execution_count": 41,
     "metadata": {},
     "output_type": "execute_result"
    },
    {
     "data": {
      "image/png": "[encoded data removed]",
      "text/plain": [
       "<Figure size 432x288 with 1 Axes>"
      ]
     },
     "metadata": {},
     "output_type": "display_data"
    }
   ],
   "source": [
    "genre_jp = actual_data.pivot_table(index='genre', values='jp_sales', aggfunc='sum')\n",
    "genre_jp = genre_jp.sort_values('jp_sales', ascending=False)\n",
    "genre_jp_top = genre_jp.head(5)\n",
    "genre_jp_top.plot(kind='pie', title = 'популярные жанры у пользователей Японии', y='jp_sales', autopct='%1.0f%%')"
   ]
  },
  {
   "cell_type": "code",
   "execution_count": 42,
   "metadata": {},
   "outputs": [
    {
     "data": {
      "text/plain": [
       "<AxesSubplot:title={'center':'Продажи по рейтингу в Японии'}, ylabel='jp_sales'>"
      ]
     },
     "execution_count": 42,
     "metadata": {},
     "output_type": "execute_result"
    },
    {
     "data": {
      "image/png": "[encoded data removed]",
      "text/plain": [
       "<Figure size 432x288 with 1 Axes>"
      ]
     },
     "metadata": {},
     "output_type": "display_data"
    }
   ],
   "source": [
    "rating_jp = actual_data.pivot_table(index='rating', values='jp_sales', aggfunc='sum')\n",
    "rating_jp = rating_jp.sort_values('jp_sales', ascending=False)\n",
    "rating_jp_top = rating_jp.head(5)\n",
    "rating_jp.plot(kind='pie', y='jp_sales', title='Продажи по рейтингу в Японии', autopct='%1.0f%%')\n"
   ]
  },
  {
   "cell_type": "markdown",
   "metadata": {},
   "source": [
    "**Японский пользователь совершенно другой: преимущественная популярность платформы 3DS (48%), любимые жанры - 40% role-playing и 39% action, остальные совсем мало представлены (6-8%), 61% игр без рейтинга (возможно это самые новинки, которые еще его не получили) "
   ]
  },
  {
   "cell_type": "markdown",
   "metadata": {},
   "source": [
    "**Вывод** Американский, Европейский и Японский рынки очень разные, для прогнозирования продаж по каждому рынку следует ориентироваться на портреты пользователей по регионам - \\\n",
    "для Америки платформы - PS4 и XOne, жанры - shooter(43%), sports(20%), fighting - 14%, platform и role-plaining по 12 и 11%, больше всего продаётся игр с рейтингом ESRB - M (Подходит для лиц старше 17 лет) - 34% и без рейтинга - 21%, E - 18%, Т - 14% и Е10+ - 12%\n",
    "\n",
    "для Европейских пользователей - PS4 (55%), 20% пользователей XOne, остальные представлены совсем по маленьку, на первом месте по продажам жанры - shooter(36%), на втором -  - sports(21%), 3 - rasing(15%). Преобладают игры с рейтингом M(с 17 лет) - 35%, E (для всех возрастных категорий) и игры без рейтинга составляют по 21-22%, Т и Е10+ представлены почти одинаково по 13 и 10%**/\n",
    "\n",
    "для Японских - платформы 3DS (48%), любимые жанры - 40% role-playing и 39% action, остальные совсем мало представлены (6-8%), 61% игр без рейтинга (возможно это самые новинки, которые еще его не получили) "
   ]
  },
  {
   "cell_type": "markdown",
   "metadata": {},
   "source": [
    "**Шаг 5. Проверьте гипотезы**\n",
    "\n",
    "5.1 Средние пользовательские рейтинги платформ Xbox One и PC одинаковые;\n",
    "\n",
    "5.2 Средние пользовательские рейтинги жанров Action (англ. «действие», экшен-игры) и Sports (англ. «спортивные соревнования») разные.\\\n",
    "Задайте самостоятельно пороговое значение alpha.\n",
    "\n",
    "Поясните:\n",
    "\n",
    "Как вы сформулировали нулевую и альтернативную гипотезы;\n",
    "\n",
    "Какой критерий применили для проверки гипотез и почему."
   ]
  },
  {
   "cell_type": "markdown",
   "metadata": {},
   "source": [
    "**Проверим гипотезу, что средние пользовательские рейтинги платформ Xbox One и PC одинаковые\n",
    "Н0: Средние рейтинги одинаковы mu1=mu2\n",
    "Н1: Средние рейтинги разные mu1<>mu2"
   ]
  },
  {
   "cell_type": "code",
   "execution_count": 43,
   "metadata": {},
   "outputs": [
    {
     "name": "stdout",
     "output_type": "stream",
     "text": [
      "средний пользовательский рейтинг Xbox: 6.594545454545456\n",
      "средний пользовательский рейтинг PC: 6.298360655737705\n",
      "Р-значение: 0.11601398086668832\n",
      "Не получилось отвергнуть гипотезу, средние рейтинги могут быть равны\n"
     ]
    }
   ],
   "source": [
    "# Создаем датафреймы только с нужными платформами\n",
    "xbox_data = actual_data[actual_data['platform'] == 'XOne']\n",
    "pc_data = actual_data[actual_data['platform'] == 'PC']\n",
    "\n",
    "# Удаляем пропущенные значения \n",
    "xbox_data = xbox_data['user_score'].dropna()\n",
    "pc_data = pc_data['user_score'].dropna()\n",
    "print('средний пользовательский рейтинг Xbox:', xbox_data.mean())\n",
    "print('средний пользовательский рейтинг PC:', pc_data.mean())\n",
    "\n",
    "\n",
    "alpha = 0.05\n",
    "\n",
    "# Проводим T-тест\n",
    "results = st.ttest_ind(xbox_data, pc_data, equal_var=False)\n",
    "\n",
    "print('Р-значение:', results.pvalue)\n",
    "\n",
    "if results.pvalue < alpha:\n",
    "    print('Отвергаем гипотезу, что средние рейтинги одинаковы')\n",
    "else:\n",
    "    print('Не получилось отвергнуть гипотезу, средние рейтинги могут быть равны')"
   ]
  },
  {
   "cell_type": "markdown",
   "metadata": {},
   "source": [
    "**Вывод: гипотеза, что средние пользовательские рейтинги Xbox One и PC равны не отвергнута"
   ]
  },
  {
   "cell_type": "markdown",
   "metadata": {},
   "source": [
    "Проверим гипотезу, что средние пользовательские рейтинги жанров Action и Sports разные.\n",
    "H0: Средние пользовательские рейтинги жанров Action и Sports не равны mu1 != mu2\n",
    "H1: Средние пользовательские рейтинги жанров Action и Sports равны mu1=mu2"
   ]
  },
  {
   "cell_type": "code",
   "execution_count": 44,
   "metadata": {},
   "outputs": [
    {
     "name": "stdout",
     "output_type": "stream",
     "text": [
      "Средний пользовательский рейтинг жанра Action: 6.760606060606061\n",
      "Средний пользовательский рейтинг жанра Sports: 5.2251968503937\n",
      "Р-значение: 1.1825550382644557e-14\n",
      "Не получилось отвергнуть гипотезу, что средние рейтинги не равны\n"
     ]
    }
   ],
   "source": [
    "# Создаем датафреймы только с нужными платформами\n",
    "action_data = actual_data[actual_data['genre'] == 'Action']\n",
    "sports_data = actual_data[actual_data['genre'] == 'Sports']\n",
    "\n",
    "# Удаляем пропущенные значения\n",
    "action_data = action_data['user_score'].dropna()\n",
    "sports_data = sports_data['user_score'].dropna()\n",
    "print('Средний пользовательский рейтинг жанра Action:',action_data.mean())\n",
    "print('Средний пользовательский рейтинг жанра Sports:',sports_data.mean())\n",
    "\n",
    "alpha = 0.05\n",
    "\n",
    "# Проводим T-тест\n",
    "results = st.ttest_ind(action_data, sports_data, equal_var=False)\n",
    "\n",
    "print('Р-значение:', results.pvalue)\n",
    "\n",
    "if results.pvalue < alpha:\n",
    "    print('Не получилось отвергнуть гипотезу, что средние рейтинги не равны')\n",
    "else:\n",
    "    print('Отвергаем гипотезу, средние рейтинги разные')"
   ]
  },
  {
   "cell_type": "markdown",
   "metadata": {},
   "source": [
    "**Вывод: средние рейтинги по жанрам ЭКШН и СПОРТ скорее всего не равны."
   ]
  },
  {
   "cell_type": "markdown",
   "metadata": {},
   "source": [
    "# общий вывод"
   ]
  },
  {
   "cell_type": "markdown",
   "metadata": {},
   "source": [
    "Мы провели исследование по данным о компьютерных играх за период с 1984 по 2016 год.\n",
    "1. Проверили на пропуски, удалили ненужные строки\n",
    "2. проверили на явные и неявные дубликаты, удалили неявные\n",
    "3. Поменяли тип данные в столбцах, заменили значения tbd на числовой NaN\n",
    "4.  Провели исследовательский анализ данных:\n",
    "Увидели, что данные за период до 2002 нам не важны вообще - отрасль была совсем другой с совсем другими продажами и играми.\n",
    "Мы посмотрите, как менялись продажи по платформам. Выбрали платформы с наибольшими суммарными продажами, в среднем платформы живут 5-7 лет. \n",
    "Мы взяли актуальный период с 2014 по 2016 год - за этот период платформы, которые показывают хороший резуьтат, продолжат работу и в следующем году, а те, чей жизненный цикл заканчивается, умрут, И мы не будем наблюдать за лишними отжившими своё платформами.\n",
    "\n",
    "Мы увидели, что платформы к концу 2016 года все упали в продажах. Потенциально прибыльные еще остаются PS4 (69,25), XOne(26,5) и 3DS(15,14млн.шт. продаж за 2016 год), все остальные сдали свои позиции, на них не стоит делать ставки.\n",
    "\n",
    "Мы построили график «ящик с усами» по глобальным продажам игр в разбивке по платформам. Увидели, что  медианные значения продаж у платформ Wii, WiiU, X360, XOne, PS4 - около 0,2 млн.шт, у PS3 - 0,1 ,PC - 0,09 , 3DS - 0,08. PSP и PSV маленькие распределения и медианы на 0,01 и 0,02 млн шт за выбранный период.\n",
    "\n",
    " мы посмотрели, как влияют на продажи  отзывы по платформам пользователей и критиков, мы построили диаграмму рассеяния и посчитали корреляцию между отзывами и продажами. Корреляция с отзывами критиков - в основном зависимость 0,44-0,42 - умеренная, корреляция с отзывами пользователей почти везде отсутмтвует, кроме платформы WiiU - у нее она 0,42. \n",
    " Рекомендуем отправлять критикам все новые игры, выходящие на всех платформах.\n",
    "\n",
    "Мы посмотрели на общее распределение игр по жанрам. Выделяются 5 жанров Shooter\t1.335 млн.шт проданных, Sports - 0.68 млн.шт, Platform\t0.476 млн.шт., Fighting\t0.470 млн.шт. , Role-Playing\t0.459 млн.шт. Шутеры явные лидеры рынка.\n",
    "\n",
    "Мы составили портреты пользователей \\\n",
    " Американский, Европейский и Японский рынки очень разные, для прогнозирования продаж по каждому рынку следует ориентироваться на портреты пользователей по регионам -\n",
    "для Америки платформы - PS4 и XOne, жанры - shooter(43%), sports(20%), fighting - 14%, platform и role-plaining по 12 и 11%, больше всего продаётся игр с рейтингом ESRB - M (Подходит для лиц старше 17 лет) - 34% и без рейтинга - 21%, E - 18%, Т - 14% и Е10+ - 12%\n",
    "\n",
    "для Европейских пользователей - PS4 (55%), 20% пользователей XOne, остальные представлены совсем по маленьку, на первом месте по продажам жанры - shooter(36%), на втором - - sports(21%), 3 - rasing(15%). Преобладают игры с рейтингом M(с 17 лет) - 35%, E (для всех возрастных категорий) и игры без рейтинга составляют по 21-22%, Т и Е10+ представлены почти одинаково по 13 и 10%**/\n",
    "\n",
    "для Японских - платформы 3DS (48%), любимые жанры - 40% role-playing и 39% action, остальные совсем мало представлены (6-8%), 61% игр без рейтинга (возможно это самые новинки, которые еще его не получили)\n",
    "\n",
    "Мы проверили гипотезы, что средние пользовательские рейтинги платформ Xbox One и PC одинаковые. Гипотезу не опровергли.\n",
    "Проверили  гипотезу, что средние пользовательские рейтинги платформ Xbox One и PC одинаковые. Гипотезу не смогли отвернуть. \n"
   ]
  }
 ],
 "metadata": {
  "ExecuteTimeLog": [
   {
    "duration": 53,
    "start_time": "2023-09-19T10:49:15.027Z"
   },
   {
    "duration": 407,
    "start_time": "2023-09-19T10:49:27.020Z"
   },
   {
    "duration": 63,
    "start_time": "2023-09-19T10:49:27.778Z"
   },
   {
    "duration": 107,
    "start_time": "2023-09-19T10:50:08.515Z"
   },
   {
    "duration": 95,
    "start_time": "2023-09-19T10:50:20.131Z"
   },
   {
    "duration": 2,
    "start_time": "2023-09-19T12:04:30.904Z"
   },
   {
    "duration": 78,
    "start_time": "2023-09-19T12:04:30.908Z"
   },
   {
    "duration": 0,
    "start_time": "2023-09-19T12:04:30.988Z"
   },
   {
    "duration": 0,
    "start_time": "2023-09-19T12:04:30.989Z"
   },
   {
    "duration": 9,
    "start_time": "2023-09-19T12:04:51.847Z"
   },
   {
    "duration": 66,
    "start_time": "2023-09-19T12:04:52.870Z"
   },
   {
    "duration": 404,
    "start_time": "2023-09-20T06:36:34.437Z"
   },
   {
    "duration": 110,
    "start_time": "2023-09-20T06:36:35.349Z"
   },
   {
    "duration": 67,
    "start_time": "2023-09-20T06:43:56.637Z"
   },
   {
    "duration": 22,
    "start_time": "2023-09-20T06:46:19.485Z"
   },
   {
    "duration": 37,
    "start_time": "2023-09-20T06:50:21.597Z"
   },
   {
    "duration": 14,
    "start_time": "2023-09-20T06:50:54.525Z"
   },
   {
    "duration": 1685,
    "start_time": "2023-09-20T06:54:35.202Z"
   },
   {
    "duration": 1934,
    "start_time": "2023-09-20T06:55:09.336Z"
   },
   {
    "duration": 6,
    "start_time": "2023-09-20T06:55:22.259Z"
   },
   {
    "duration": 101,
    "start_time": "2023-09-20T06:56:31.883Z"
   },
   {
    "duration": 13,
    "start_time": "2023-09-20T06:56:43.739Z"
   },
   {
    "duration": 4,
    "start_time": "2023-09-20T06:58:49.285Z"
   },
   {
    "duration": 9,
    "start_time": "2023-09-20T06:59:28.257Z"
   },
   {
    "duration": 14,
    "start_time": "2023-09-20T06:59:33.116Z"
   },
   {
    "duration": 5,
    "start_time": "2023-09-20T07:10:44.215Z"
   },
   {
    "duration": 7,
    "start_time": "2023-09-20T07:10:45.314Z"
   },
   {
    "duration": 17,
    "start_time": "2023-09-20T07:11:53.843Z"
   },
   {
    "duration": 24,
    "start_time": "2023-09-20T09:28:30.197Z"
   },
   {
    "duration": 18,
    "start_time": "2023-09-20T09:29:07.914Z"
   },
   {
    "duration": 11,
    "start_time": "2023-09-20T09:36:00.512Z"
   },
   {
    "duration": 11,
    "start_time": "2023-09-20T09:36:10.117Z"
   },
   {
    "duration": 157,
    "start_time": "2023-09-20T09:38:30.257Z"
   },
   {
    "duration": 28,
    "start_time": "2023-09-20T09:39:35.759Z"
   },
   {
    "duration": 29,
    "start_time": "2023-09-20T09:40:07.776Z"
   },
   {
    "duration": 21,
    "start_time": "2023-09-20T09:40:43.941Z"
   },
   {
    "duration": 166,
    "start_time": "2023-09-20T09:45:49.123Z"
   },
   {
    "duration": 146,
    "start_time": "2023-09-20T09:46:30.251Z"
   },
   {
    "duration": 16,
    "start_time": "2023-09-20T10:09:56.595Z"
   },
   {
    "duration": 19,
    "start_time": "2023-09-20T10:10:12.866Z"
   },
   {
    "duration": 3,
    "start_time": "2023-09-20T10:38:57.409Z"
   },
   {
    "duration": 71,
    "start_time": "2023-09-20T10:38:57.830Z"
   },
   {
    "duration": 16,
    "start_time": "2023-09-20T10:38:59.489Z"
   },
   {
    "duration": 6,
    "start_time": "2023-09-20T10:39:03.890Z"
   },
   {
    "duration": 4,
    "start_time": "2023-09-20T10:39:04.658Z"
   },
   {
    "duration": 15,
    "start_time": "2023-09-20T10:39:05.921Z"
   },
   {
    "duration": 23,
    "start_time": "2023-09-20T10:39:06.913Z"
   },
   {
    "duration": 28,
    "start_time": "2023-09-20T10:39:10.209Z"
   },
   {
    "duration": 15,
    "start_time": "2023-09-20T10:39:19.042Z"
   },
   {
    "duration": 24,
    "start_time": "2023-09-20T10:39:22.418Z"
   },
   {
    "duration": 13,
    "start_time": "2023-09-20T10:39:44.801Z"
   },
   {
    "duration": 71,
    "start_time": "2023-09-20T10:40:16.252Z"
   },
   {
    "duration": 72,
    "start_time": "2023-09-20T10:56:08.410Z"
   },
   {
    "duration": 5,
    "start_time": "2023-09-20T11:02:06.706Z"
   },
   {
    "duration": 633,
    "start_time": "2023-09-20T11:02:37.013Z"
   },
   {
    "duration": 22,
    "start_time": "2023-09-20T11:03:06.933Z"
   },
   {
    "duration": 21,
    "start_time": "2023-09-20T11:03:31.322Z"
   },
   {
    "duration": 17,
    "start_time": "2023-09-20T11:03:47.600Z"
   },
   {
    "duration": 16,
    "start_time": "2023-09-20T11:09:12.377Z"
   },
   {
    "duration": 23,
    "start_time": "2023-09-20T11:10:53.206Z"
   },
   {
    "duration": 18,
    "start_time": "2023-09-20T11:11:46.382Z"
   },
   {
    "duration": 1786,
    "start_time": "2023-09-20T11:19:10.118Z"
   },
   {
    "duration": 26,
    "start_time": "2023-09-20T11:20:37.885Z"
   },
   {
    "duration": 28,
    "start_time": "2023-09-20T11:26:15.004Z"
   },
   {
    "duration": 2145,
    "start_time": "2023-09-20T11:27:20.045Z"
   },
   {
    "duration": 14,
    "start_time": "2023-09-20T11:28:27.589Z"
   },
   {
    "duration": 15,
    "start_time": "2023-09-20T11:28:43.604Z"
   },
   {
    "duration": 52,
    "start_time": "2023-09-20T14:22:38.295Z"
   },
   {
    "duration": 396,
    "start_time": "2023-09-20T14:22:52.347Z"
   },
   {
    "duration": 116,
    "start_time": "2023-09-20T14:22:53.647Z"
   },
   {
    "duration": 21,
    "start_time": "2023-09-20T14:22:56.127Z"
   },
   {
    "duration": 6,
    "start_time": "2023-09-20T14:22:57.879Z"
   },
   {
    "duration": 5,
    "start_time": "2023-09-20T14:22:58.955Z"
   },
   {
    "duration": 5,
    "start_time": "2023-09-20T14:23:00.955Z"
   },
   {
    "duration": 28,
    "start_time": "2023-09-20T14:23:01.976Z"
   },
   {
    "duration": 26,
    "start_time": "2023-09-20T14:23:04.863Z"
   },
   {
    "duration": 18,
    "start_time": "2023-09-20T14:23:08.349Z"
   },
   {
    "duration": 24,
    "start_time": "2023-09-20T14:23:12.857Z"
   },
   {
    "duration": 22,
    "start_time": "2023-09-20T14:23:38.560Z"
   },
   {
    "duration": 1819,
    "start_time": "2023-09-20T14:53:37.682Z"
   },
   {
    "duration": 1381,
    "start_time": "2023-09-20T14:54:51.362Z"
   },
   {
    "duration": 1320,
    "start_time": "2023-09-20T14:55:07.738Z"
   },
   {
    "duration": 2,
    "start_time": "2023-09-20T14:56:42.738Z"
   },
   {
    "duration": 70,
    "start_time": "2023-09-20T14:56:43.705Z"
   },
   {
    "duration": 16,
    "start_time": "2023-09-20T14:56:45.513Z"
   },
   {
    "duration": 7,
    "start_time": "2023-09-20T14:56:46.746Z"
   },
   {
    "duration": 4,
    "start_time": "2023-09-20T14:56:47.626Z"
   },
   {
    "duration": 4,
    "start_time": "2023-09-20T14:56:48.786Z"
   },
   {
    "duration": 18,
    "start_time": "2023-09-20T14:56:49.506Z"
   },
   {
    "duration": 22,
    "start_time": "2023-09-20T14:56:51.465Z"
   },
   {
    "duration": 17,
    "start_time": "2023-09-20T14:56:53.937Z"
   },
   {
    "duration": 19,
    "start_time": "2023-09-20T14:56:56.426Z"
   },
   {
    "duration": 1561,
    "start_time": "2023-09-20T14:57:00.067Z"
   },
   {
    "duration": 6,
    "start_time": "2023-09-20T14:59:55.138Z"
   },
   {
    "duration": 18,
    "start_time": "2023-09-20T15:01:58.751Z"
   },
   {
    "duration": 11,
    "start_time": "2023-09-20T15:07:30.595Z"
   },
   {
    "duration": 1633,
    "start_time": "2023-09-20T15:07:44.430Z"
   },
   {
    "duration": 20,
    "start_time": "2023-09-20T15:08:38.704Z"
   },
   {
    "duration": 1362,
    "start_time": "2023-09-20T15:09:21.436Z"
   },
   {
    "duration": 19,
    "start_time": "2023-09-20T15:09:50.241Z"
   },
   {
    "duration": 516,
    "start_time": "2023-09-20T15:10:16.829Z"
   },
   {
    "duration": 417,
    "start_time": "2023-09-20T15:11:29.795Z"
   },
   {
    "duration": 499,
    "start_time": "2023-09-20T15:11:48.254Z"
   },
   {
    "duration": 427,
    "start_time": "2023-09-20T15:11:55.376Z"
   },
   {
    "duration": 398,
    "start_time": "2023-09-20T15:12:20.766Z"
   },
   {
    "duration": 434,
    "start_time": "2023-09-20T15:13:48.637Z"
   },
   {
    "duration": 414,
    "start_time": "2023-09-20T15:16:22.035Z"
   },
   {
    "duration": 487,
    "start_time": "2023-09-20T15:17:47.195Z"
   },
   {
    "duration": 377,
    "start_time": "2023-09-20T15:18:55.707Z"
   },
   {
    "duration": 413,
    "start_time": "2023-09-20T15:20:42.358Z"
   },
   {
    "duration": 405,
    "start_time": "2023-09-20T15:21:21.227Z"
   },
   {
    "duration": 410,
    "start_time": "2023-09-20T15:22:43.971Z"
   },
   {
    "duration": 411,
    "start_time": "2023-09-20T15:24:43.763Z"
   },
   {
    "duration": 459,
    "start_time": "2023-09-20T15:31:15.802Z"
   },
   {
    "duration": 393,
    "start_time": "2023-09-20T15:32:33.500Z"
   },
   {
    "duration": 21,
    "start_time": "2023-09-20T15:33:19.491Z"
   },
   {
    "duration": 415,
    "start_time": "2023-09-20T15:34:20.642Z"
   },
   {
    "duration": 459,
    "start_time": "2023-09-20T15:35:04.434Z"
   },
   {
    "duration": 426,
    "start_time": "2023-09-20T15:35:49.194Z"
   },
   {
    "duration": 514,
    "start_time": "2023-09-20T15:35:56.283Z"
   },
   {
    "duration": 381,
    "start_time": "2023-09-20T15:36:03.614Z"
   },
   {
    "duration": 153,
    "start_time": "2023-09-20T15:50:10.629Z"
   },
   {
    "duration": 3,
    "start_time": "2023-09-20T15:51:30.286Z"
   },
   {
    "duration": 18,
    "start_time": "2023-09-20T15:51:43.530Z"
   },
   {
    "duration": 114,
    "start_time": "2023-09-20T15:51:50.616Z"
   },
   {
    "duration": 217,
    "start_time": "2023-09-20T15:52:03.991Z"
   },
   {
    "duration": 213,
    "start_time": "2023-09-20T15:52:36.079Z"
   },
   {
    "duration": 16,
    "start_time": "2023-09-20T15:55:02.670Z"
   },
   {
    "duration": 420,
    "start_time": "2023-09-20T15:55:24.154Z"
   },
   {
    "duration": 340,
    "start_time": "2023-09-20T15:57:05.082Z"
   },
   {
    "duration": 330,
    "start_time": "2023-09-20T15:58:17.439Z"
   },
   {
    "duration": 19,
    "start_time": "2023-09-20T16:12:45.020Z"
   },
   {
    "duration": 16,
    "start_time": "2023-09-20T16:12:59.387Z"
   },
   {
    "duration": 3,
    "start_time": "2023-09-20T16:26:10.762Z"
   },
   {
    "duration": 78,
    "start_time": "2023-09-20T16:26:10.768Z"
   },
   {
    "duration": 15,
    "start_time": "2023-09-20T16:26:10.848Z"
   },
   {
    "duration": 14,
    "start_time": "2023-09-20T16:26:10.865Z"
   },
   {
    "duration": 20,
    "start_time": "2023-09-20T16:26:10.881Z"
   },
   {
    "duration": 10,
    "start_time": "2023-09-20T16:26:10.903Z"
   },
   {
    "duration": 26,
    "start_time": "2023-09-20T16:26:10.915Z"
   },
   {
    "duration": 25,
    "start_time": "2023-09-20T16:26:10.943Z"
   },
   {
    "duration": 33,
    "start_time": "2023-09-20T16:26:10.970Z"
   },
   {
    "duration": 20,
    "start_time": "2023-09-20T16:26:11.005Z"
   },
   {
    "duration": 382,
    "start_time": "2023-09-20T16:26:11.027Z"
   },
   {
    "duration": 91,
    "start_time": "2023-09-20T16:26:11.411Z"
   },
   {
    "duration": 0,
    "start_time": "2023-09-20T16:26:11.504Z"
   },
   {
    "duration": 14,
    "start_time": "2023-09-20T16:29:00.394Z"
   },
   {
    "duration": 8,
    "start_time": "2023-09-20T16:31:12.101Z"
   },
   {
    "duration": 360,
    "start_time": "2023-09-20T16:31:27.030Z"
   },
   {
    "duration": 12,
    "start_time": "2023-09-20T16:34:03.524Z"
   },
   {
    "duration": 15,
    "start_time": "2023-09-20T16:34:17.164Z"
   },
   {
    "duration": 583,
    "start_time": "2023-09-20T16:40:32.424Z"
   },
   {
    "duration": 14,
    "start_time": "2023-09-20T16:47:43.794Z"
   },
   {
    "duration": 17,
    "start_time": "2023-09-20T16:47:56.216Z"
   },
   {
    "duration": 179,
    "start_time": "2023-09-20T16:52:54.889Z"
   },
   {
    "duration": 14,
    "start_time": "2023-09-20T16:56:11.408Z"
   },
   {
    "duration": 9,
    "start_time": "2023-09-20T16:56:39.087Z"
   },
   {
    "duration": 26,
    "start_time": "2023-09-20T16:57:43.600Z"
   },
   {
    "duration": 10,
    "start_time": "2023-09-20T16:59:11.611Z"
   },
   {
    "duration": 11,
    "start_time": "2023-09-20T17:00:25.229Z"
   },
   {
    "duration": 18,
    "start_time": "2023-09-20T17:00:32.483Z"
   },
   {
    "duration": 178,
    "start_time": "2023-09-20T17:00:47.451Z"
   },
   {
    "duration": 193,
    "start_time": "2023-09-20T17:04:35.491Z"
   },
   {
    "duration": 16,
    "start_time": "2023-09-20T17:04:45.138Z"
   },
   {
    "duration": 18,
    "start_time": "2023-09-20T17:05:07.257Z"
   },
   {
    "duration": 165,
    "start_time": "2023-09-20T17:05:16.170Z"
   },
   {
    "duration": 170,
    "start_time": "2023-09-20T17:05:43.881Z"
   },
   {
    "duration": 101,
    "start_time": "2023-09-20T17:06:45.255Z"
   },
   {
    "duration": 166,
    "start_time": "2023-09-20T17:07:18.890Z"
   },
   {
    "duration": 315,
    "start_time": "2023-09-20T17:15:31.826Z"
   },
   {
    "duration": 146,
    "start_time": "2023-09-20T17:46:27.273Z"
   },
   {
    "duration": 156,
    "start_time": "2023-09-20T17:48:57.428Z"
   },
   {
    "duration": 226,
    "start_time": "2023-09-20T17:51:21.456Z"
   },
   {
    "duration": 285,
    "start_time": "2023-09-20T17:55:44.144Z"
   },
   {
    "duration": 288,
    "start_time": "2023-09-20T18:00:29.404Z"
   },
   {
    "duration": 297,
    "start_time": "2023-09-20T18:02:12.096Z"
   },
   {
    "duration": 148,
    "start_time": "2023-09-20T18:03:09.538Z"
   },
   {
    "duration": 411,
    "start_time": "2023-09-20T18:04:23.726Z"
   },
   {
    "duration": 351,
    "start_time": "2023-09-20T18:09:04.392Z"
   },
   {
    "duration": 327,
    "start_time": "2023-09-20T18:10:54.504Z"
   },
   {
    "duration": 277,
    "start_time": "2023-09-20T18:12:59.008Z"
   },
   {
    "duration": 313,
    "start_time": "2023-09-20T18:15:13.092Z"
   },
   {
    "duration": 297,
    "start_time": "2023-09-20T18:17:38.911Z"
   },
   {
    "duration": 318,
    "start_time": "2023-09-20T18:17:54.259Z"
   },
   {
    "duration": 322,
    "start_time": "2023-09-20T18:20:08.903Z"
   },
   {
    "duration": 303,
    "start_time": "2023-09-20T18:22:03.226Z"
   },
   {
    "duration": 315,
    "start_time": "2023-09-20T18:23:23.647Z"
   },
   {
    "duration": 415,
    "start_time": "2023-09-20T18:24:23.638Z"
   },
   {
    "duration": 336,
    "start_time": "2023-09-20T18:24:48.478Z"
   },
   {
    "duration": 296,
    "start_time": "2023-09-20T18:24:58.775Z"
   },
   {
    "duration": 317,
    "start_time": "2023-09-20T18:25:34.707Z"
   },
   {
    "duration": 317,
    "start_time": "2023-09-20T18:26:25.400Z"
   },
   {
    "duration": 301,
    "start_time": "2023-09-20T18:28:37.090Z"
   },
   {
    "duration": 52,
    "start_time": "2023-09-21T04:25:51.964Z"
   },
   {
    "duration": 852,
    "start_time": "2023-09-21T04:26:02.862Z"
   },
   {
    "duration": 126,
    "start_time": "2023-09-21T04:26:03.892Z"
   },
   {
    "duration": 20,
    "start_time": "2023-09-21T04:26:05.854Z"
   },
   {
    "duration": 6,
    "start_time": "2023-09-21T04:26:07.187Z"
   },
   {
    "duration": 5,
    "start_time": "2023-09-21T04:26:07.698Z"
   },
   {
    "duration": 6,
    "start_time": "2023-09-21T04:26:08.813Z"
   },
   {
    "duration": 18,
    "start_time": "2023-09-21T04:26:09.442Z"
   },
   {
    "duration": 25,
    "start_time": "2023-09-21T04:26:11.315Z"
   },
   {
    "duration": 16,
    "start_time": "2023-09-21T04:26:13.482Z"
   },
   {
    "duration": 19,
    "start_time": "2023-09-21T04:26:15.467Z"
   },
   {
    "duration": 472,
    "start_time": "2023-09-21T04:26:16.991Z"
   },
   {
    "duration": 19,
    "start_time": "2023-09-21T04:26:27.662Z"
   },
   {
    "duration": 22,
    "start_time": "2023-09-21T04:26:28.982Z"
   },
   {
    "duration": 308,
    "start_time": "2023-09-21T04:26:30.232Z"
   },
   {
    "duration": 165,
    "start_time": "2023-09-21T04:26:33.374Z"
   },
   {
    "duration": 228,
    "start_time": "2023-09-21T04:26:36.486Z"
   },
   {
    "duration": 314,
    "start_time": "2023-09-21T04:26:38.552Z"
   },
   {
    "duration": 291,
    "start_time": "2023-09-21T04:26:40.222Z"
   },
   {
    "duration": 292,
    "start_time": "2023-09-21T04:26:40.809Z"
   },
   {
    "duration": 275,
    "start_time": "2023-09-21T04:26:41.586Z"
   },
   {
    "duration": 364,
    "start_time": "2023-09-21T04:26:42.245Z"
   },
   {
    "duration": 360,
    "start_time": "2023-09-21T04:26:42.990Z"
   },
   {
    "duration": 300,
    "start_time": "2023-09-21T04:26:43.663Z"
   },
   {
    "duration": 332,
    "start_time": "2023-09-21T04:26:44.315Z"
   },
   {
    "duration": 352,
    "start_time": "2023-09-21T04:26:45.609Z"
   },
   {
    "duration": 43,
    "start_time": "2023-09-21T04:32:50.117Z"
   },
   {
    "duration": 16,
    "start_time": "2023-09-21T04:33:00.037Z"
   },
   {
    "duration": 17,
    "start_time": "2023-09-21T04:34:06.545Z"
   },
   {
    "duration": 16,
    "start_time": "2023-09-21T04:36:23.954Z"
   },
   {
    "duration": 211,
    "start_time": "2023-09-21T04:39:35.955Z"
   },
   {
    "duration": 217,
    "start_time": "2023-09-21T04:40:49.946Z"
   },
   {
    "duration": 17,
    "start_time": "2023-09-21T04:48:48.811Z"
   },
   {
    "duration": 49,
    "start_time": "2023-09-21T05:01:23.094Z"
   },
   {
    "duration": 18,
    "start_time": "2023-09-21T05:01:50.590Z"
   },
   {
    "duration": 186,
    "start_time": "2023-09-21T05:03:33.408Z"
   },
   {
    "duration": 358,
    "start_time": "2023-09-21T05:04:02.581Z"
   },
   {
    "duration": 229,
    "start_time": "2023-09-21T05:07:38.071Z"
   },
   {
    "duration": 21,
    "start_time": "2023-09-21T06:06:12.578Z"
   },
   {
    "duration": 16,
    "start_time": "2023-09-21T06:11:07.128Z"
   },
   {
    "duration": 149,
    "start_time": "2023-09-21T06:11:18.716Z"
   },
   {
    "duration": 16,
    "start_time": "2023-09-21T06:11:34.239Z"
   },
   {
    "duration": 111,
    "start_time": "2023-09-21T06:14:51.328Z"
   },
   {
    "duration": 17,
    "start_time": "2023-09-21T06:14:57.066Z"
   },
   {
    "duration": 168,
    "start_time": "2023-09-21T06:15:51.905Z"
   },
   {
    "duration": 23,
    "start_time": "2023-09-21T06:18:04.989Z"
   },
   {
    "duration": 23,
    "start_time": "2023-09-21T06:18:19.129Z"
   },
   {
    "duration": 18,
    "start_time": "2023-09-21T06:18:55.978Z"
   },
   {
    "duration": 17,
    "start_time": "2023-09-21T06:19:41.374Z"
   },
   {
    "duration": 214,
    "start_time": "2023-09-21T06:20:18.090Z"
   },
   {
    "duration": 244,
    "start_time": "2023-09-21T06:28:54.138Z"
   },
   {
    "duration": 286,
    "start_time": "2023-09-21T06:30:26.283Z"
   },
   {
    "duration": 347,
    "start_time": "2023-09-21T06:31:23.948Z"
   },
   {
    "duration": 183,
    "start_time": "2023-09-21T06:32:14.004Z"
   },
   {
    "duration": 19,
    "start_time": "2023-09-21T06:49:18.664Z"
   },
   {
    "duration": 18,
    "start_time": "2023-09-21T06:50:11.666Z"
   },
   {
    "duration": 18,
    "start_time": "2023-09-21T06:50:40.370Z"
   },
   {
    "duration": 206,
    "start_time": "2023-09-21T06:52:19.395Z"
   },
   {
    "duration": 211,
    "start_time": "2023-09-21T06:52:36.288Z"
   },
   {
    "duration": 228,
    "start_time": "2023-09-21T06:52:44.065Z"
   },
   {
    "duration": 501,
    "start_time": "2023-09-21T07:59:52.569Z"
   },
   {
    "duration": 491,
    "start_time": "2023-09-21T08:00:02.183Z"
   },
   {
    "duration": 547,
    "start_time": "2023-09-21T08:06:16.368Z"
   },
   {
    "duration": 64,
    "start_time": "2023-09-21T08:27:52.543Z"
   },
   {
    "duration": 19,
    "start_time": "2023-09-21T08:28:41.837Z"
   },
   {
    "duration": 20,
    "start_time": "2023-09-21T08:29:06.885Z"
   },
   {
    "duration": 602,
    "start_time": "2023-09-21T08:33:53.290Z"
   },
   {
    "duration": 547,
    "start_time": "2023-09-21T08:34:35.450Z"
   },
   {
    "duration": 548,
    "start_time": "2023-09-21T08:36:13.303Z"
   },
   {
    "duration": 1590,
    "start_time": "2023-09-21T08:44:22.306Z"
   },
   {
    "duration": 822,
    "start_time": "2023-09-21T08:44:37.370Z"
   },
   {
    "duration": 728,
    "start_time": "2023-09-21T08:46:07.178Z"
   },
   {
    "duration": 24,
    "start_time": "2023-09-21T08:58:38.265Z"
   },
   {
    "duration": 5,
    "start_time": "2023-09-21T08:58:56.775Z"
   },
   {
    "duration": 27,
    "start_time": "2023-09-21T09:02:50.858Z"
   },
   {
    "duration": 23,
    "start_time": "2023-09-21T09:03:04.473Z"
   },
   {
    "duration": 16,
    "start_time": "2023-09-21T09:10:49.815Z"
   },
   {
    "duration": 19,
    "start_time": "2023-09-21T09:13:20.535Z"
   },
   {
    "duration": 21,
    "start_time": "2023-09-21T09:14:03.247Z"
   },
   {
    "duration": 10,
    "start_time": "2023-09-21T09:15:59.754Z"
   },
   {
    "duration": 36,
    "start_time": "2023-09-21T09:16:23.391Z"
   },
   {
    "duration": 19,
    "start_time": "2023-09-21T09:16:57.929Z"
   },
   {
    "duration": 134,
    "start_time": "2023-09-21T09:16:58.599Z"
   },
   {
    "duration": 23,
    "start_time": "2023-09-21T09:17:00.834Z"
   },
   {
    "duration": 10,
    "start_time": "2023-09-21T09:17:02.333Z"
   },
   {
    "duration": 22,
    "start_time": "2023-09-21T09:17:03.079Z"
   },
   {
    "duration": 140,
    "start_time": "2023-09-21T09:17:03.747Z"
   },
   {
    "duration": 11,
    "start_time": "2023-09-21T09:19:52.532Z"
   },
   {
    "duration": 12,
    "start_time": "2023-09-21T09:20:10.072Z"
   },
   {
    "duration": 5,
    "start_time": "2023-09-21T09:21:57.138Z"
   },
   {
    "duration": 8,
    "start_time": "2023-09-21T09:22:27.244Z"
   },
   {
    "duration": 19,
    "start_time": "2023-09-21T09:22:30.277Z"
   },
   {
    "duration": 6,
    "start_time": "2023-09-21T09:23:12.522Z"
   },
   {
    "duration": 107,
    "start_time": "2023-09-21T09:23:13.144Z"
   },
   {
    "duration": 25,
    "start_time": "2023-09-21T09:23:15.362Z"
   },
   {
    "duration": 5,
    "start_time": "2023-09-21T09:23:17.170Z"
   },
   {
    "duration": 5,
    "start_time": "2023-09-21T09:23:17.898Z"
   },
   {
    "duration": 5,
    "start_time": "2023-09-21T09:23:20.066Z"
   },
   {
    "duration": 34,
    "start_time": "2023-09-21T09:23:21.001Z"
   },
   {
    "duration": 41,
    "start_time": "2023-09-21T09:23:24.839Z"
   },
   {
    "duration": 21,
    "start_time": "2023-09-21T09:23:27.898Z"
   },
   {
    "duration": 36,
    "start_time": "2023-09-21T09:23:30.232Z"
   },
   {
    "duration": 37,
    "start_time": "2023-09-21T09:23:31.281Z"
   },
   {
    "duration": 24,
    "start_time": "2023-09-21T09:23:37.342Z"
   },
   {
    "duration": 21,
    "start_time": "2023-09-21T09:23:40.481Z"
   },
   {
    "duration": 446,
    "start_time": "2023-09-21T09:23:43.631Z"
   },
   {
    "duration": 31,
    "start_time": "2023-09-21T09:23:47.998Z"
   },
   {
    "duration": 32,
    "start_time": "2023-09-21T09:23:50.011Z"
   },
   {
    "duration": 469,
    "start_time": "2023-09-21T09:23:51.685Z"
   },
   {
    "duration": 596,
    "start_time": "2023-09-21T09:23:54.453Z"
   },
   {
    "duration": 377,
    "start_time": "2023-09-21T09:23:58.228Z"
   },
   {
    "duration": 193,
    "start_time": "2023-09-21T09:24:00.644Z"
   },
   {
    "duration": 411,
    "start_time": "2023-09-21T09:24:02.810Z"
   },
   {
    "duration": 445,
    "start_time": "2023-09-21T09:24:04.456Z"
   },
   {
    "duration": 380,
    "start_time": "2023-09-21T09:24:05.058Z"
   },
   {
    "duration": 357,
    "start_time": "2023-09-21T09:24:09.594Z"
   },
   {
    "duration": 367,
    "start_time": "2023-09-21T09:24:10.298Z"
   },
   {
    "duration": 407,
    "start_time": "2023-09-21T09:24:11.867Z"
   },
   {
    "duration": 617,
    "start_time": "2023-09-21T09:24:12.570Z"
   },
   {
    "duration": 416,
    "start_time": "2023-09-21T09:24:14.370Z"
   },
   {
    "duration": 348,
    "start_time": "2023-09-21T09:24:16.962Z"
   },
   {
    "duration": 317,
    "start_time": "2023-09-21T09:24:20.778Z"
   },
   {
    "duration": 277,
    "start_time": "2023-09-21T09:24:25.163Z"
   },
   {
    "duration": 310,
    "start_time": "2023-09-21T09:24:27.290Z"
   },
   {
    "duration": 214,
    "start_time": "2023-09-21T09:24:28.866Z"
   },
   {
    "duration": 320,
    "start_time": "2023-09-21T09:24:32.949Z"
   },
   {
    "duration": 188,
    "start_time": "2023-09-21T09:24:35.802Z"
   },
   {
    "duration": 222,
    "start_time": "2023-09-21T09:24:37.843Z"
   },
   {
    "duration": 267,
    "start_time": "2023-09-21T09:24:38.636Z"
   },
   {
    "duration": 345,
    "start_time": "2023-09-21T09:24:39.402Z"
   },
   {
    "duration": 35,
    "start_time": "2023-09-21T09:24:42.506Z"
   },
   {
    "duration": 3,
    "start_time": "2023-09-21T09:28:15.060Z"
   },
   {
    "duration": 44,
    "start_time": "2023-09-21T09:28:24.732Z"
   },
   {
    "duration": 12,
    "start_time": "2023-09-21T09:30:42.137Z"
   },
   {
    "duration": 2621,
    "start_time": "2023-09-21T09:42:40.952Z"
   },
   {
    "duration": 12,
    "start_time": "2023-09-21T09:43:50.342Z"
   },
   {
    "duration": 5,
    "start_time": "2023-09-21T10:06:00.860Z"
   },
   {
    "duration": 1084,
    "start_time": "2023-09-21T14:15:39.106Z"
   },
   {
    "duration": 70,
    "start_time": "2023-09-21T14:15:40.192Z"
   },
   {
    "duration": 17,
    "start_time": "2023-09-21T14:15:40.266Z"
   },
   {
    "duration": 29,
    "start_time": "2023-09-21T14:15:40.285Z"
   },
   {
    "duration": 31,
    "start_time": "2023-09-21T14:15:40.316Z"
   },
   {
    "duration": 20,
    "start_time": "2023-09-21T14:15:40.348Z"
   },
   {
    "duration": 26,
    "start_time": "2023-09-21T14:15:40.370Z"
   },
   {
    "duration": 29,
    "start_time": "2023-09-21T14:15:40.398Z"
   },
   {
    "duration": 35,
    "start_time": "2023-09-21T14:15:40.429Z"
   },
   {
    "duration": 19,
    "start_time": "2023-09-21T14:15:40.468Z"
   },
   {
    "duration": 32,
    "start_time": "2023-09-21T14:15:40.489Z"
   },
   {
    "duration": 4,
    "start_time": "2023-09-21T14:15:40.524Z"
   },
   {
    "duration": 43,
    "start_time": "2023-09-21T14:15:40.529Z"
   },
   {
    "duration": 26,
    "start_time": "2023-09-21T14:15:40.574Z"
   },
   {
    "duration": 397,
    "start_time": "2023-09-21T14:15:40.602Z"
   },
   {
    "duration": 14,
    "start_time": "2023-09-21T14:15:41.000Z"
   },
   {
    "duration": 21,
    "start_time": "2023-09-21T14:15:41.016Z"
   },
   {
    "duration": 283,
    "start_time": "2023-09-21T14:15:41.038Z"
   },
   {
    "duration": 457,
    "start_time": "2023-09-21T14:15:41.323Z"
   },
   {
    "duration": 144,
    "start_time": "2023-09-21T14:15:41.781Z"
   },
   {
    "duration": 149,
    "start_time": "2023-09-21T14:15:41.927Z"
   },
   {
    "duration": 348,
    "start_time": "2023-09-21T14:15:42.077Z"
   },
   {
    "duration": 282,
    "start_time": "2023-09-21T14:15:42.426Z"
   },
   {
    "duration": 260,
    "start_time": "2023-09-21T14:15:42.710Z"
   },
   {
    "duration": 246,
    "start_time": "2023-09-21T14:15:42.971Z"
   },
   {
    "duration": 292,
    "start_time": "2023-09-21T14:15:43.218Z"
   },
   {
    "duration": 286,
    "start_time": "2023-09-21T14:15:43.511Z"
   },
   {
    "duration": 372,
    "start_time": "2023-09-21T14:15:43.800Z"
   },
   {
    "duration": 295,
    "start_time": "2023-09-21T14:15:44.174Z"
   },
   {
    "duration": 288,
    "start_time": "2023-09-21T14:15:44.471Z"
   },
   {
    "duration": 204,
    "start_time": "2023-09-21T14:15:44.760Z"
   },
   {
    "duration": 162,
    "start_time": "2023-09-21T14:15:44.966Z"
   },
   {
    "duration": 198,
    "start_time": "2023-09-21T14:15:45.129Z"
   },
   {
    "duration": 145,
    "start_time": "2023-09-21T14:15:45.329Z"
   },
   {
    "duration": 193,
    "start_time": "2023-09-21T14:15:45.476Z"
   },
   {
    "duration": 205,
    "start_time": "2023-09-21T14:15:45.671Z"
   },
   {
    "duration": 164,
    "start_time": "2023-09-21T14:15:45.877Z"
   },
   {
    "duration": 231,
    "start_time": "2023-09-21T14:15:46.043Z"
   },
   {
    "duration": 166,
    "start_time": "2023-09-21T14:15:46.277Z"
   },
   {
    "duration": 16,
    "start_time": "2023-09-21T14:15:46.456Z"
   },
   {
    "duration": 92,
    "start_time": "2023-09-21T14:15:46.476Z"
   },
   {
    "duration": 1405,
    "start_time": "2023-09-21T15:57:29.150Z"
   },
   {
    "duration": 122,
    "start_time": "2023-09-21T15:57:30.558Z"
   },
   {
    "duration": 20,
    "start_time": "2023-09-21T15:57:30.682Z"
   },
   {
    "duration": 33,
    "start_time": "2023-09-21T15:57:30.703Z"
   },
   {
    "duration": 40,
    "start_time": "2023-09-21T15:57:30.738Z"
   },
   {
    "duration": 32,
    "start_time": "2023-09-21T15:57:30.780Z"
   },
   {
    "duration": 48,
    "start_time": "2023-09-21T15:57:30.814Z"
   },
   {
    "duration": 58,
    "start_time": "2023-09-21T15:57:30.864Z"
   },
   {
    "duration": 39,
    "start_time": "2023-09-21T15:57:30.924Z"
   },
   {
    "duration": 42,
    "start_time": "2023-09-21T15:57:30.966Z"
   },
   {
    "duration": 63,
    "start_time": "2023-09-21T15:57:31.010Z"
   },
   {
    "duration": 23,
    "start_time": "2023-09-21T15:57:31.075Z"
   },
   {
    "duration": 56,
    "start_time": "2023-09-21T15:57:31.099Z"
   },
   {
    "duration": 52,
    "start_time": "2023-09-21T15:57:31.156Z"
   },
   {
    "duration": 525,
    "start_time": "2023-09-21T15:57:31.209Z"
   },
   {
    "duration": 15,
    "start_time": "2023-09-21T15:57:31.735Z"
   },
   {
    "duration": 82,
    "start_time": "2023-09-21T15:57:31.751Z"
   },
   {
    "duration": 354,
    "start_time": "2023-09-21T15:57:31.835Z"
   },
   {
    "duration": 561,
    "start_time": "2023-09-21T15:57:32.191Z"
   },
   {
    "duration": 159,
    "start_time": "2023-09-21T15:57:32.754Z"
   },
   {
    "duration": 163,
    "start_time": "2023-09-21T15:57:32.915Z"
   },
   {
    "duration": 394,
    "start_time": "2023-09-21T15:57:33.079Z"
   },
   {
    "duration": 316,
    "start_time": "2023-09-21T15:57:33.475Z"
   },
   {
    "duration": 287,
    "start_time": "2023-09-21T15:57:33.793Z"
   },
   {
    "duration": 313,
    "start_time": "2023-09-21T15:57:34.083Z"
   },
   {
    "duration": 322,
    "start_time": "2023-09-21T15:57:34.398Z"
   },
   {
    "duration": 318,
    "start_time": "2023-09-21T15:57:34.721Z"
   },
   {
    "duration": 455,
    "start_time": "2023-09-21T15:57:35.046Z"
   },
   {
    "duration": 327,
    "start_time": "2023-09-21T15:57:35.503Z"
   },
   {
    "duration": 318,
    "start_time": "2023-09-21T15:57:35.832Z"
   },
   {
    "duration": 225,
    "start_time": "2023-09-21T15:57:36.152Z"
   },
   {
    "duration": 190,
    "start_time": "2023-09-21T15:57:36.378Z"
   },
   {
    "duration": 229,
    "start_time": "2023-09-21T15:57:36.570Z"
   },
   {
    "duration": 150,
    "start_time": "2023-09-21T15:57:36.801Z"
   },
   {
    "duration": 208,
    "start_time": "2023-09-21T15:57:36.953Z"
   },
   {
    "duration": 226,
    "start_time": "2023-09-21T15:57:37.163Z"
   },
   {
    "duration": 183,
    "start_time": "2023-09-21T15:57:37.391Z"
   },
   {
    "duration": 216,
    "start_time": "2023-09-21T15:57:37.576Z"
   },
   {
    "duration": 158,
    "start_time": "2023-09-21T15:57:37.794Z"
   },
   {
    "duration": 9,
    "start_time": "2023-09-21T15:57:37.955Z"
   },
   {
    "duration": 25,
    "start_time": "2023-09-21T15:57:37.966Z"
   },
   {
    "duration": 1820,
    "start_time": "2023-09-21T16:15:15.837Z"
   },
   {
    "duration": 8,
    "start_time": "2023-09-21T16:16:01.446Z"
   },
   {
    "duration": 16,
    "start_time": "2023-09-21T16:16:27.782Z"
   },
   {
    "duration": 11,
    "start_time": "2023-09-21T16:16:29.630Z"
   },
   {
    "duration": 21,
    "start_time": "2023-09-21T16:16:31.798Z"
   },
   {
    "duration": 237,
    "start_time": "2023-09-21T16:18:40.669Z"
   },
   {
    "duration": 405,
    "start_time": "2023-09-21T16:24:36.381Z"
   },
   {
    "duration": 259,
    "start_time": "2023-09-21T16:34:32.478Z"
   },
   {
    "duration": 447,
    "start_time": "2023-09-21T16:35:32.934Z"
   },
   {
    "duration": 352,
    "start_time": "2023-09-21T16:36:21.280Z"
   },
   {
    "duration": 191,
    "start_time": "2023-09-21T16:40:17.697Z"
   },
   {
    "duration": 252,
    "start_time": "2023-09-21T16:41:16.665Z"
   },
   {
    "duration": 338,
    "start_time": "2023-09-21T16:43:49.786Z"
   },
   {
    "duration": 233,
    "start_time": "2023-09-21T16:46:53.165Z"
   },
   {
    "duration": 242,
    "start_time": "2023-09-21T16:57:38.490Z"
   },
   {
    "duration": 90,
    "start_time": "2023-09-21T16:59:14.584Z"
   },
   {
    "duration": 164,
    "start_time": "2023-09-21T17:04:33.858Z"
   },
   {
    "duration": 114,
    "start_time": "2023-09-21T17:07:42.242Z"
   },
   {
    "duration": 174,
    "start_time": "2023-09-21T17:08:01.445Z"
   },
   {
    "duration": 174,
    "start_time": "2023-09-21T17:10:49.786Z"
   },
   {
    "duration": 312,
    "start_time": "2023-09-21T17:12:20.386Z"
   },
   {
    "duration": 427,
    "start_time": "2023-09-21T17:12:55.707Z"
   },
   {
    "duration": 326,
    "start_time": "2023-09-21T17:16:38.539Z"
   },
   {
    "duration": 301,
    "start_time": "2023-09-21T17:18:24.242Z"
   },
   {
    "duration": 308,
    "start_time": "2023-09-21T17:20:36.195Z"
   },
   {
    "duration": 338,
    "start_time": "2023-09-21T17:21:42.559Z"
   },
   {
    "duration": 315,
    "start_time": "2023-09-21T17:23:13.417Z"
   },
   {
    "duration": 316,
    "start_time": "2023-09-21T17:24:01.757Z"
   },
   {
    "duration": 403,
    "start_time": "2023-09-21T17:34:29.840Z"
   },
   {
    "duration": 211,
    "start_time": "2023-09-21T17:45:05.239Z"
   },
   {
    "duration": 328,
    "start_time": "2023-09-21T17:47:21.232Z"
   },
   {
    "duration": 233,
    "start_time": "2023-09-21T17:49:48.541Z"
   },
   {
    "duration": 209,
    "start_time": "2023-09-21T18:00:30.662Z"
   },
   {
    "duration": 1852,
    "start_time": "2023-09-21T18:26:48.428Z"
   },
   {
    "duration": 206,
    "start_time": "2023-09-21T18:26:57.017Z"
   },
   {
    "duration": 3551,
    "start_time": "2023-09-21T18:30:18.138Z"
   },
   {
    "duration": 191,
    "start_time": "2023-09-21T18:30:50.407Z"
   },
   {
    "duration": 234,
    "start_time": "2023-09-21T18:34:14.809Z"
   },
   {
    "duration": 140,
    "start_time": "2023-09-21T18:35:55.465Z"
   },
   {
    "duration": 268,
    "start_time": "2023-09-21T18:36:05.565Z"
   },
   {
    "duration": 162,
    "start_time": "2023-09-21T18:36:34.486Z"
   },
   {
    "duration": 40,
    "start_time": "2023-09-21T18:37:30.939Z"
   },
   {
    "duration": 1383,
    "start_time": "2023-09-21T18:37:45.637Z"
   },
   {
    "duration": 96,
    "start_time": "2023-09-21T18:37:47.023Z"
   },
   {
    "duration": 19,
    "start_time": "2023-09-21T18:37:47.121Z"
   },
   {
    "duration": 56,
    "start_time": "2023-09-21T18:37:47.142Z"
   },
   {
    "duration": 41,
    "start_time": "2023-09-21T18:37:47.200Z"
   },
   {
    "duration": 52,
    "start_time": "2023-09-21T18:37:47.242Z"
   },
   {
    "duration": 50,
    "start_time": "2023-09-21T18:37:47.296Z"
   },
   {
    "duration": 51,
    "start_time": "2023-09-21T18:37:47.353Z"
   },
   {
    "duration": 8,
    "start_time": "2023-09-21T18:37:47.406Z"
   },
   {
    "duration": 40,
    "start_time": "2023-09-21T18:37:47.416Z"
   },
   {
    "duration": 40,
    "start_time": "2023-09-21T18:37:47.457Z"
   },
   {
    "duration": 40,
    "start_time": "2023-09-21T18:37:47.499Z"
   },
   {
    "duration": 4,
    "start_time": "2023-09-21T18:37:47.541Z"
   },
   {
    "duration": 539,
    "start_time": "2023-09-21T18:37:47.553Z"
   },
   {
    "duration": 20,
    "start_time": "2023-09-21T18:37:48.100Z"
   },
   {
    "duration": 574,
    "start_time": "2023-09-21T18:37:48.121Z"
   },
   {
    "duration": 16,
    "start_time": "2023-09-21T18:37:48.697Z"
   },
   {
    "duration": 227,
    "start_time": "2023-09-21T18:37:48.715Z"
   },
   {
    "duration": 373,
    "start_time": "2023-09-21T18:37:48.943Z"
   },
   {
    "duration": 284,
    "start_time": "2023-09-21T18:37:49.317Z"
   },
   {
    "duration": 200,
    "start_time": "2023-09-21T18:37:49.603Z"
   },
   {
    "duration": 297,
    "start_time": "2023-09-21T18:37:49.804Z"
   },
   {
    "duration": 390,
    "start_time": "2023-09-21T18:37:50.103Z"
   },
   {
    "duration": 371,
    "start_time": "2023-09-21T18:37:50.495Z"
   },
   {
    "duration": 338,
    "start_time": "2023-09-21T18:37:50.868Z"
   },
   {
    "duration": 380,
    "start_time": "2023-09-21T18:37:51.208Z"
   },
   {
    "duration": 133,
    "start_time": "2023-09-21T18:37:51.595Z"
   },
   {
    "duration": 0,
    "start_time": "2023-09-21T18:37:51.730Z"
   },
   {
    "duration": 0,
    "start_time": "2023-09-21T18:37:51.731Z"
   },
   {
    "duration": 0,
    "start_time": "2023-09-21T18:37:51.733Z"
   },
   {
    "duration": 0,
    "start_time": "2023-09-21T18:37:51.734Z"
   },
   {
    "duration": 0,
    "start_time": "2023-09-21T18:37:51.735Z"
   },
   {
    "duration": 0,
    "start_time": "2023-09-21T18:37:51.737Z"
   },
   {
    "duration": 0,
    "start_time": "2023-09-21T18:37:51.746Z"
   },
   {
    "duration": 0,
    "start_time": "2023-09-21T18:37:51.747Z"
   },
   {
    "duration": 0,
    "start_time": "2023-09-21T18:37:51.748Z"
   },
   {
    "duration": 0,
    "start_time": "2023-09-21T18:37:51.749Z"
   },
   {
    "duration": 0,
    "start_time": "2023-09-21T18:37:51.750Z"
   },
   {
    "duration": 0,
    "start_time": "2023-09-21T18:37:51.751Z"
   },
   {
    "duration": 0,
    "start_time": "2023-09-21T18:37:51.754Z"
   },
   {
    "duration": 0,
    "start_time": "2023-09-21T18:37:51.755Z"
   },
   {
    "duration": 0,
    "start_time": "2023-09-21T18:37:51.756Z"
   },
   {
    "duration": 17,
    "start_time": "2023-09-21T18:39:51.676Z"
   },
   {
    "duration": 373,
    "start_time": "2023-09-21T18:40:10.210Z"
   },
   {
    "duration": 409,
    "start_time": "2023-09-21T18:40:20.011Z"
   },
   {
    "duration": 454,
    "start_time": "2023-09-21T18:40:25.785Z"
   },
   {
    "duration": 383,
    "start_time": "2023-09-21T18:40:28.228Z"
   },
   {
    "duration": 374,
    "start_time": "2023-09-21T18:40:30.143Z"
   },
   {
    "duration": 231,
    "start_time": "2023-09-21T18:40:35.783Z"
   },
   {
    "duration": 218,
    "start_time": "2023-09-21T18:41:01.281Z"
   },
   {
    "duration": 228,
    "start_time": "2023-09-21T18:41:04.277Z"
   },
   {
    "duration": 15,
    "start_time": "2023-09-21T18:41:06.618Z"
   },
   {
    "duration": 8,
    "start_time": "2023-09-21T18:43:09.202Z"
   },
   {
    "duration": 7,
    "start_time": "2023-09-21T18:43:34.497Z"
   },
   {
    "duration": 9,
    "start_time": "2023-09-21T18:43:59.875Z"
   },
   {
    "duration": 8,
    "start_time": "2023-09-21T18:44:22.187Z"
   },
   {
    "duration": 16,
    "start_time": "2023-09-21T18:44:53.507Z"
   },
   {
    "duration": 16,
    "start_time": "2023-09-21T18:45:59.615Z"
   },
   {
    "duration": 196,
    "start_time": "2023-09-21T18:46:08.247Z"
   },
   {
    "duration": 189,
    "start_time": "2023-09-21T18:46:51.483Z"
   },
   {
    "duration": 78,
    "start_time": "2023-09-21T18:50:34.172Z"
   },
   {
    "duration": 100,
    "start_time": "2023-09-21T18:50:44.543Z"
   },
   {
    "duration": 33,
    "start_time": "2023-09-21T18:51:20.243Z"
   },
   {
    "duration": 225,
    "start_time": "2023-09-21T18:51:43.619Z"
   },
   {
    "duration": 314,
    "start_time": "2023-09-21T18:52:12.413Z"
   },
   {
    "duration": 198,
    "start_time": "2023-09-21T18:52:43.769Z"
   },
   {
    "duration": 168,
    "start_time": "2023-09-21T18:53:20.040Z"
   },
   {
    "duration": 182,
    "start_time": "2023-09-21T18:54:43.804Z"
   },
   {
    "duration": 150,
    "start_time": "2023-09-21T18:55:17.590Z"
   },
   {
    "duration": 191,
    "start_time": "2023-09-21T18:56:28.712Z"
   },
   {
    "duration": 245,
    "start_time": "2023-09-21T18:59:48.930Z"
   },
   {
    "duration": 233,
    "start_time": "2023-09-21T19:02:14.999Z"
   },
   {
    "duration": 299,
    "start_time": "2023-09-21T19:04:42.124Z"
   },
   {
    "duration": 201,
    "start_time": "2023-09-21T19:04:57.311Z"
   },
   {
    "duration": 284,
    "start_time": "2023-09-21T19:05:45.388Z"
   },
   {
    "duration": 24,
    "start_time": "2023-09-21T19:08:29.868Z"
   },
   {
    "duration": 178,
    "start_time": "2023-09-21T19:09:41.716Z"
   },
   {
    "duration": 188,
    "start_time": "2023-09-21T19:09:50.350Z"
   },
   {
    "duration": 1410,
    "start_time": "2023-09-22T06:15:58.847Z"
   },
   {
    "duration": 115,
    "start_time": "2023-09-22T06:16:00.259Z"
   },
   {
    "duration": 18,
    "start_time": "2023-09-22T06:16:00.376Z"
   },
   {
    "duration": 31,
    "start_time": "2023-09-22T06:16:00.396Z"
   },
   {
    "duration": 70,
    "start_time": "2023-09-22T06:16:00.429Z"
   },
   {
    "duration": 59,
    "start_time": "2023-09-22T06:16:00.501Z"
   },
   {
    "duration": 86,
    "start_time": "2023-09-22T06:16:00.562Z"
   },
   {
    "duration": 67,
    "start_time": "2023-09-22T06:16:00.650Z"
   },
   {
    "duration": 87,
    "start_time": "2023-09-22T06:16:00.719Z"
   },
   {
    "duration": 173,
    "start_time": "2023-09-22T06:16:00.809Z"
   },
   {
    "duration": 104,
    "start_time": "2023-09-22T06:16:00.984Z"
   },
   {
    "duration": 149,
    "start_time": "2023-09-22T06:16:01.090Z"
   },
   {
    "duration": 68,
    "start_time": "2023-09-22T06:16:01.241Z"
   },
   {
    "duration": 534,
    "start_time": "2023-09-22T06:16:01.311Z"
   },
   {
    "duration": 19,
    "start_time": "2023-09-22T06:16:01.848Z"
   },
   {
    "duration": 485,
    "start_time": "2023-09-22T06:16:01.869Z"
   },
   {
    "duration": 16,
    "start_time": "2023-09-22T06:16:02.356Z"
   },
   {
    "duration": 643,
    "start_time": "2023-09-22T06:16:02.375Z"
   },
   {
    "duration": 608,
    "start_time": "2023-09-22T06:16:03.020Z"
   },
   {
    "duration": 296,
    "start_time": "2023-09-22T06:16:03.630Z"
   },
   {
    "duration": 161,
    "start_time": "2023-09-22T06:16:03.928Z"
   },
   {
    "duration": 251,
    "start_time": "2023-09-22T06:16:04.091Z"
   },
   {
    "duration": 354,
    "start_time": "2023-09-22T06:16:04.343Z"
   },
   {
    "duration": 326,
    "start_time": "2023-09-22T06:16:04.702Z"
   },
   {
    "duration": 285,
    "start_time": "2023-09-22T06:16:05.030Z"
   },
   {
    "duration": 294,
    "start_time": "2023-09-22T06:16:05.317Z"
   },
   {
    "duration": 318,
    "start_time": "2023-09-22T06:16:05.613Z"
   },
   {
    "duration": 309,
    "start_time": "2023-09-22T06:16:05.935Z"
   },
   {
    "duration": 433,
    "start_time": "2023-09-22T06:16:06.246Z"
   },
   {
    "duration": 359,
    "start_time": "2023-09-22T06:16:06.681Z"
   },
   {
    "duration": 312,
    "start_time": "2023-09-22T06:16:07.041Z"
   },
   {
    "duration": 214,
    "start_time": "2023-09-22T06:16:07.355Z"
   },
   {
    "duration": 194,
    "start_time": "2023-09-22T06:16:07.571Z"
   },
   {
    "duration": 205,
    "start_time": "2023-09-22T06:16:07.766Z"
   },
   {
    "duration": 189,
    "start_time": "2023-09-22T06:16:07.973Z"
   },
   {
    "duration": 428,
    "start_time": "2023-09-22T06:16:08.165Z"
   },
   {
    "duration": 208,
    "start_time": "2023-09-22T06:16:08.595Z"
   },
   {
    "duration": 276,
    "start_time": "2023-09-22T06:16:08.805Z"
   },
   {
    "duration": 212,
    "start_time": "2023-09-22T06:16:09.083Z"
   },
   {
    "duration": 206,
    "start_time": "2023-09-22T06:16:09.297Z"
   },
   {
    "duration": 9,
    "start_time": "2023-09-22T06:16:09.505Z"
   },
   {
    "duration": 41,
    "start_time": "2023-09-22T06:16:09.516Z"
   },
   {
    "duration": 7,
    "start_time": "2023-09-22T06:34:42.980Z"
   },
   {
    "duration": 1363,
    "start_time": "2023-09-22T06:36:19.999Z"
   },
   {
    "duration": 69,
    "start_time": "2023-09-22T06:36:21.365Z"
   },
   {
    "duration": 18,
    "start_time": "2023-09-22T06:36:21.436Z"
   },
   {
    "duration": 38,
    "start_time": "2023-09-22T06:36:21.456Z"
   },
   {
    "duration": 33,
    "start_time": "2023-09-22T06:36:21.496Z"
   },
   {
    "duration": 23,
    "start_time": "2023-09-22T06:36:21.531Z"
   },
   {
    "duration": 39,
    "start_time": "2023-09-22T06:36:21.555Z"
   },
   {
    "duration": 25,
    "start_time": "2023-09-22T06:36:21.596Z"
   },
   {
    "duration": 34,
    "start_time": "2023-09-22T06:36:21.623Z"
   },
   {
    "duration": 33,
    "start_time": "2023-09-22T06:36:21.658Z"
   },
   {
    "duration": 27,
    "start_time": "2023-09-22T06:36:21.692Z"
   },
   {
    "duration": 35,
    "start_time": "2023-09-22T06:36:21.721Z"
   },
   {
    "duration": 19,
    "start_time": "2023-09-22T06:36:21.758Z"
   },
   {
    "duration": 414,
    "start_time": "2023-09-22T06:36:21.781Z"
   },
   {
    "duration": 18,
    "start_time": "2023-09-22T06:36:22.197Z"
   },
   {
    "duration": 457,
    "start_time": "2023-09-22T06:36:22.217Z"
   },
   {
    "duration": 18,
    "start_time": "2023-09-22T06:36:22.676Z"
   },
   {
    "duration": 207,
    "start_time": "2023-09-22T06:36:22.696Z"
   },
   {
    "duration": 296,
    "start_time": "2023-09-22T06:36:22.905Z"
   },
   {
    "duration": 231,
    "start_time": "2023-09-22T06:36:23.204Z"
   },
   {
    "duration": 161,
    "start_time": "2023-09-22T06:36:23.437Z"
   },
   {
    "duration": 243,
    "start_time": "2023-09-22T06:36:23.601Z"
   },
   {
    "duration": 304,
    "start_time": "2023-09-22T06:36:23.846Z"
   },
   {
    "duration": 303,
    "start_time": "2023-09-22T06:36:24.152Z"
   },
   {
    "duration": 345,
    "start_time": "2023-09-22T06:36:24.457Z"
   },
   {
    "duration": 284,
    "start_time": "2023-09-22T06:36:24.804Z"
   },
   {
    "duration": 293,
    "start_time": "2023-09-22T06:36:25.100Z"
   },
   {
    "duration": 307,
    "start_time": "2023-09-22T06:36:25.395Z"
   },
   {
    "duration": 393,
    "start_time": "2023-09-22T06:36:25.704Z"
   },
   {
    "duration": 317,
    "start_time": "2023-09-22T06:36:26.101Z"
   },
   {
    "duration": 296,
    "start_time": "2023-09-22T06:36:26.419Z"
   },
   {
    "duration": 221,
    "start_time": "2023-09-22T06:36:26.717Z"
   },
   {
    "duration": 189,
    "start_time": "2023-09-22T06:36:26.940Z"
   },
   {
    "duration": 192,
    "start_time": "2023-09-22T06:36:27.131Z"
   },
   {
    "duration": 193,
    "start_time": "2023-09-22T06:36:27.325Z"
   },
   {
    "duration": 196,
    "start_time": "2023-09-22T06:36:27.520Z"
   },
   {
    "duration": 205,
    "start_time": "2023-09-22T06:36:27.717Z"
   },
   {
    "duration": 277,
    "start_time": "2023-09-22T06:36:27.924Z"
   },
   {
    "duration": 194,
    "start_time": "2023-09-22T06:36:28.203Z"
   },
   {
    "duration": 199,
    "start_time": "2023-09-22T06:36:28.398Z"
   },
   {
    "duration": 8,
    "start_time": "2023-09-22T06:36:28.600Z"
   },
   {
    "duration": 22,
    "start_time": "2023-09-22T06:36:28.609Z"
   },
   {
    "duration": 209,
    "start_time": "2023-09-22T06:38:24.178Z"
   },
   {
    "duration": 234,
    "start_time": "2023-09-22T06:38:37.862Z"
   },
   {
    "duration": 201,
    "start_time": "2023-09-22T06:38:53.783Z"
   },
   {
    "duration": 208,
    "start_time": "2023-09-22T06:39:02.617Z"
   },
   {
    "duration": 198,
    "start_time": "2023-09-22T06:39:15.338Z"
   },
   {
    "duration": 209,
    "start_time": "2023-09-22T06:39:26.530Z"
   },
   {
    "duration": 219,
    "start_time": "2023-09-22T06:39:36.291Z"
   },
   {
    "duration": 220,
    "start_time": "2023-09-22T06:39:47.786Z"
   },
   {
    "duration": 178,
    "start_time": "2023-09-22T06:51:23.769Z"
   },
   {
    "duration": 349,
    "start_time": "2023-09-22T06:52:04.573Z"
   },
   {
    "duration": 303,
    "start_time": "2023-09-22T06:56:12.136Z"
   },
   {
    "duration": 216,
    "start_time": "2023-09-22T07:16:23.809Z"
   },
   {
    "duration": 347,
    "start_time": "2023-09-22T07:23:02.159Z"
   },
   {
    "duration": 219,
    "start_time": "2023-09-22T07:55:20.960Z"
   },
   {
    "duration": 206,
    "start_time": "2023-09-22T07:55:31.707Z"
   },
   {
    "duration": 11,
    "start_time": "2023-09-22T08:06:43.182Z"
   },
   {
    "duration": 10,
    "start_time": "2023-09-22T08:07:05.176Z"
   },
   {
    "duration": 12,
    "start_time": "2023-09-22T08:08:26.267Z"
   },
   {
    "duration": 17,
    "start_time": "2023-09-22T08:16:18.123Z"
   },
   {
    "duration": 20,
    "start_time": "2023-09-22T08:16:37.282Z"
   },
   {
    "duration": 21,
    "start_time": "2023-09-22T08:21:13.941Z"
   },
   {
    "duration": 30,
    "start_time": "2023-09-22T08:23:24.590Z"
   },
   {
    "duration": 22,
    "start_time": "2023-09-22T08:23:57.071Z"
   },
   {
    "duration": 209,
    "start_time": "2023-09-22T08:24:59.814Z"
   },
   {
    "duration": 10,
    "start_time": "2023-09-22T08:25:36.382Z"
   },
   {
    "duration": 11,
    "start_time": "2023-09-22T08:49:41.676Z"
   },
   {
    "duration": 17,
    "start_time": "2023-09-22T08:53:01.560Z"
   },
   {
    "duration": 28,
    "start_time": "2023-09-22T09:06:04.548Z"
   },
   {
    "duration": 19,
    "start_time": "2023-09-22T09:06:28.893Z"
   },
   {
    "duration": 23,
    "start_time": "2023-09-22T09:36:58.021Z"
   },
   {
    "duration": 16,
    "start_time": "2023-09-22T09:37:24.146Z"
   },
   {
    "duration": 18,
    "start_time": "2023-09-22T09:38:00.082Z"
   },
   {
    "duration": 16,
    "start_time": "2023-09-22T09:38:07.065Z"
   },
   {
    "duration": 16,
    "start_time": "2023-09-22T09:39:10.654Z"
   },
   {
    "duration": 15,
    "start_time": "2023-09-22T09:40:41.053Z"
   },
   {
    "duration": 237,
    "start_time": "2023-09-22T09:41:35.750Z"
   },
   {
    "duration": 187,
    "start_time": "2023-09-22T09:41:55.069Z"
   },
   {
    "duration": 193,
    "start_time": "2023-09-22T09:42:04.893Z"
   },
   {
    "duration": 210,
    "start_time": "2023-09-22T09:42:48.621Z"
   },
   {
    "duration": 207,
    "start_time": "2023-09-22T09:44:16.302Z"
   },
   {
    "duration": 207,
    "start_time": "2023-09-22T09:44:55.854Z"
   },
   {
    "duration": 179,
    "start_time": "2023-09-22T09:45:07.349Z"
   },
   {
    "duration": 202,
    "start_time": "2023-09-22T09:45:29.701Z"
   },
   {
    "duration": 1179,
    "start_time": "2023-09-22T12:08:17.869Z"
   },
   {
    "duration": 73,
    "start_time": "2023-09-22T12:08:19.051Z"
   },
   {
    "duration": 16,
    "start_time": "2023-09-22T12:08:19.125Z"
   },
   {
    "duration": 31,
    "start_time": "2023-09-22T12:08:19.143Z"
   },
   {
    "duration": 8,
    "start_time": "2023-09-22T12:08:19.177Z"
   },
   {
    "duration": 13,
    "start_time": "2023-09-22T12:08:19.187Z"
   },
   {
    "duration": 30,
    "start_time": "2023-09-22T12:08:19.201Z"
   },
   {
    "duration": 29,
    "start_time": "2023-09-22T12:08:19.232Z"
   },
   {
    "duration": 9,
    "start_time": "2023-09-22T12:08:19.263Z"
   },
   {
    "duration": 20,
    "start_time": "2023-09-22T12:08:19.275Z"
   },
   {
    "duration": 12,
    "start_time": "2023-09-22T12:08:19.296Z"
   },
   {
    "duration": 51,
    "start_time": "2023-09-22T12:08:19.309Z"
   },
   {
    "duration": 10,
    "start_time": "2023-09-22T12:08:19.362Z"
   },
   {
    "duration": 396,
    "start_time": "2023-09-22T12:08:19.380Z"
   },
   {
    "duration": 18,
    "start_time": "2023-09-22T12:08:19.778Z"
   },
   {
    "duration": 424,
    "start_time": "2023-09-22T12:08:19.797Z"
   },
   {
    "duration": 42,
    "start_time": "2023-09-22T12:08:20.222Z"
   },
   {
    "duration": 221,
    "start_time": "2023-09-22T12:08:20.266Z"
   },
   {
    "duration": 337,
    "start_time": "2023-09-22T12:08:20.489Z"
   },
   {
    "duration": 265,
    "start_time": "2023-09-22T12:08:20.828Z"
   },
   {
    "duration": 166,
    "start_time": "2023-09-22T12:08:21.095Z"
   },
   {
    "duration": 238,
    "start_time": "2023-09-22T12:08:21.274Z"
   },
   {
    "duration": 290,
    "start_time": "2023-09-22T12:08:21.513Z"
   },
   {
    "duration": 299,
    "start_time": "2023-09-22T12:08:21.805Z"
   },
   {
    "duration": 313,
    "start_time": "2023-09-22T12:08:22.106Z"
   },
   {
    "duration": 299,
    "start_time": "2023-09-22T12:08:22.421Z"
   },
   {
    "duration": 357,
    "start_time": "2023-09-22T12:08:22.721Z"
   },
   {
    "duration": 322,
    "start_time": "2023-09-22T12:08:23.084Z"
   },
   {
    "duration": 396,
    "start_time": "2023-09-22T12:08:23.407Z"
   },
   {
    "duration": 403,
    "start_time": "2023-09-22T12:08:23.804Z"
   },
   {
    "duration": 395,
    "start_time": "2023-09-22T12:08:24.210Z"
   },
   {
    "duration": 215,
    "start_time": "2023-09-22T12:08:24.607Z"
   },
   {
    "duration": 228,
    "start_time": "2023-09-22T12:08:24.824Z"
   },
   {
    "duration": 214,
    "start_time": "2023-09-22T12:08:25.069Z"
   },
   {
    "duration": 207,
    "start_time": "2023-09-22T12:08:25.284Z"
   },
   {
    "duration": 201,
    "start_time": "2023-09-22T12:08:25.493Z"
   },
   {
    "duration": 237,
    "start_time": "2023-09-22T12:08:25.696Z"
   },
   {
    "duration": 307,
    "start_time": "2023-09-22T12:08:25.935Z"
   },
   {
    "duration": 225,
    "start_time": "2023-09-22T12:08:26.243Z"
   },
   {
    "duration": 210,
    "start_time": "2023-09-22T12:08:26.471Z"
   },
   {
    "duration": 207,
    "start_time": "2023-09-22T12:08:26.685Z"
   },
   {
    "duration": 8,
    "start_time": "2023-09-22T12:08:26.894Z"
   },
   {
    "duration": 17,
    "start_time": "2023-09-22T12:08:26.903Z"
   },
   {
    "duration": 53,
    "start_time": "2023-09-22T12:37:40.244Z"
   },
   {
    "duration": 9,
    "start_time": "2023-09-22T12:37:41.260Z"
   },
   {
    "duration": 1356,
    "start_time": "2023-09-22T12:38:14.001Z"
   },
   {
    "duration": 114,
    "start_time": "2023-09-22T12:38:15.359Z"
   },
   {
    "duration": 18,
    "start_time": "2023-09-22T12:38:15.474Z"
   },
   {
    "duration": 76,
    "start_time": "2023-09-22T12:38:15.493Z"
   },
   {
    "duration": 90,
    "start_time": "2023-09-22T12:38:15.571Z"
   },
   {
    "duration": 89,
    "start_time": "2023-09-22T12:38:15.663Z"
   },
   {
    "duration": 91,
    "start_time": "2023-09-22T12:38:15.754Z"
   },
   {
    "duration": 111,
    "start_time": "2023-09-22T12:38:15.848Z"
   },
   {
    "duration": 40,
    "start_time": "2023-09-22T12:38:15.962Z"
   },
   {
    "duration": 40,
    "start_time": "2023-09-22T12:38:16.003Z"
   },
   {
    "duration": 40,
    "start_time": "2023-09-22T12:38:16.045Z"
   },
   {
    "duration": 40,
    "start_time": "2023-09-22T12:38:16.087Z"
   },
   {
    "duration": 43,
    "start_time": "2023-09-22T12:38:16.129Z"
   },
   {
    "duration": 427,
    "start_time": "2023-09-22T12:38:16.176Z"
   },
   {
    "duration": 23,
    "start_time": "2023-09-22T12:38:16.605Z"
   },
   {
    "duration": 412,
    "start_time": "2023-09-22T12:38:16.630Z"
   },
   {
    "duration": 14,
    "start_time": "2023-09-22T12:38:17.044Z"
   },
   {
    "duration": 174,
    "start_time": "2023-09-22T12:38:17.060Z"
   },
   {
    "duration": 304,
    "start_time": "2023-09-22T12:38:17.236Z"
   },
   {
    "duration": 229,
    "start_time": "2023-09-22T12:38:17.541Z"
   },
   {
    "duration": 101,
    "start_time": "2023-09-22T12:38:17.771Z"
   },
   {
    "duration": 0,
    "start_time": "2023-09-22T12:38:17.873Z"
   },
   {
    "duration": 0,
    "start_time": "2023-09-22T12:38:17.875Z"
   },
   {
    "duration": 0,
    "start_time": "2023-09-22T12:38:17.876Z"
   },
   {
    "duration": 0,
    "start_time": "2023-09-22T12:38:17.877Z"
   },
   {
    "duration": 0,
    "start_time": "2023-09-22T12:38:17.878Z"
   },
   {
    "duration": 0,
    "start_time": "2023-09-22T12:38:17.879Z"
   },
   {
    "duration": 0,
    "start_time": "2023-09-22T12:38:17.880Z"
   },
   {
    "duration": 0,
    "start_time": "2023-09-22T12:38:17.881Z"
   },
   {
    "duration": 0,
    "start_time": "2023-09-22T12:38:17.882Z"
   },
   {
    "duration": 0,
    "start_time": "2023-09-22T12:38:17.883Z"
   },
   {
    "duration": 0,
    "start_time": "2023-09-22T12:38:17.884Z"
   },
   {
    "duration": 0,
    "start_time": "2023-09-22T12:38:17.885Z"
   },
   {
    "duration": 0,
    "start_time": "2023-09-22T12:38:17.886Z"
   },
   {
    "duration": 0,
    "start_time": "2023-09-22T12:38:17.887Z"
   },
   {
    "duration": 0,
    "start_time": "2023-09-22T12:38:17.888Z"
   },
   {
    "duration": 0,
    "start_time": "2023-09-22T12:38:17.889Z"
   },
   {
    "duration": 0,
    "start_time": "2023-09-22T12:38:17.890Z"
   },
   {
    "duration": 0,
    "start_time": "2023-09-22T12:38:17.891Z"
   },
   {
    "duration": 0,
    "start_time": "2023-09-22T12:38:17.923Z"
   },
   {
    "duration": 0,
    "start_time": "2023-09-22T12:38:17.925Z"
   },
   {
    "duration": 0,
    "start_time": "2023-09-22T12:38:17.926Z"
   },
   {
    "duration": 0,
    "start_time": "2023-09-22T12:38:17.927Z"
   },
   {
    "duration": 0,
    "start_time": "2023-09-22T12:38:17.928Z"
   },
   {
    "duration": 1159,
    "start_time": "2023-09-22T12:39:03.183Z"
   },
   {
    "duration": 1311,
    "start_time": "2023-09-22T12:39:07.821Z"
   },
   {
    "duration": 1060,
    "start_time": "2023-09-22T12:40:38.455Z"
   },
   {
    "duration": 1504,
    "start_time": "2023-09-22T12:42:17.481Z"
   },
   {
    "duration": 1830,
    "start_time": "2023-09-22T12:43:36.499Z"
   },
   {
    "duration": 1108,
    "start_time": "2023-09-22T12:44:03.780Z"
   },
   {
    "duration": 80,
    "start_time": "2023-09-22T12:44:04.890Z"
   },
   {
    "duration": 108,
    "start_time": "2023-09-22T12:44:04.971Z"
   },
   {
    "duration": 222,
    "start_time": "2023-09-22T12:44:05.081Z"
   },
   {
    "duration": 146,
    "start_time": "2023-09-22T12:44:05.305Z"
   },
   {
    "duration": 101,
    "start_time": "2023-09-22T12:44:05.453Z"
   },
   {
    "duration": 57,
    "start_time": "2023-09-22T12:44:05.556Z"
   },
   {
    "duration": 116,
    "start_time": "2023-09-22T12:44:05.614Z"
   },
   {
    "duration": 135,
    "start_time": "2023-09-22T12:44:05.731Z"
   },
   {
    "duration": 126,
    "start_time": "2023-09-22T12:44:05.868Z"
   },
   {
    "duration": 32,
    "start_time": "2023-09-22T12:44:05.997Z"
   },
   {
    "duration": 66,
    "start_time": "2023-09-22T12:44:06.031Z"
   },
   {
    "duration": 37,
    "start_time": "2023-09-22T12:44:06.099Z"
   },
   {
    "duration": 483,
    "start_time": "2023-09-22T12:44:06.139Z"
   },
   {
    "duration": 16,
    "start_time": "2023-09-22T12:44:06.624Z"
   },
   {
    "duration": 420,
    "start_time": "2023-09-22T12:44:06.642Z"
   },
   {
    "duration": 15,
    "start_time": "2023-09-22T12:44:07.064Z"
   },
   {
    "duration": 359,
    "start_time": "2023-09-22T12:44:07.081Z"
   },
   {
    "duration": 296,
    "start_time": "2023-09-22T12:44:07.442Z"
   },
   {
    "duration": 232,
    "start_time": "2023-09-22T12:44:07.740Z"
   },
   {
    "duration": 158,
    "start_time": "2023-09-22T12:44:07.974Z"
   },
   {
    "duration": 244,
    "start_time": "2023-09-22T12:44:08.134Z"
   },
   {
    "duration": 300,
    "start_time": "2023-09-22T12:44:08.380Z"
   },
   {
    "duration": 308,
    "start_time": "2023-09-22T12:44:08.682Z"
   },
   {
    "duration": 271,
    "start_time": "2023-09-22T12:44:08.992Z"
   },
   {
    "duration": 295,
    "start_time": "2023-09-22T12:44:09.265Z"
   },
   {
    "duration": 302,
    "start_time": "2023-09-22T12:44:09.562Z"
   },
   {
    "duration": 296,
    "start_time": "2023-09-22T12:44:09.865Z"
   },
   {
    "duration": 401,
    "start_time": "2023-09-22T12:44:10.162Z"
   },
   {
    "duration": 299,
    "start_time": "2023-09-22T12:44:10.565Z"
   },
   {
    "duration": 312,
    "start_time": "2023-09-22T12:44:10.866Z"
   },
   {
    "duration": 218,
    "start_time": "2023-09-22T12:44:11.180Z"
   },
   {
    "duration": 198,
    "start_time": "2023-09-22T12:44:11.400Z"
   },
   {
    "duration": 203,
    "start_time": "2023-09-22T12:44:11.600Z"
   },
   {
    "duration": 206,
    "start_time": "2023-09-22T12:44:11.805Z"
   },
   {
    "duration": 188,
    "start_time": "2023-09-22T12:44:12.023Z"
   },
   {
    "duration": 229,
    "start_time": "2023-09-22T12:44:12.213Z"
   },
   {
    "duration": 280,
    "start_time": "2023-09-22T12:44:12.443Z"
   },
   {
    "duration": 211,
    "start_time": "2023-09-22T12:44:12.725Z"
   },
   {
    "duration": 241,
    "start_time": "2023-09-22T12:44:12.938Z"
   },
   {
    "duration": 205,
    "start_time": "2023-09-22T12:44:13.182Z"
   },
   {
    "duration": 9,
    "start_time": "2023-09-22T12:44:13.389Z"
   },
   {
    "duration": 29,
    "start_time": "2023-09-22T12:44:13.400Z"
   },
   {
    "duration": 141,
    "start_time": "2023-09-22T12:47:54.559Z"
   },
   {
    "duration": 160,
    "start_time": "2023-09-22T12:49:03.671Z"
   },
   {
    "duration": 276,
    "start_time": "2023-09-22T12:50:32.568Z"
   },
   {
    "duration": 279,
    "start_time": "2023-09-22T12:51:40.053Z"
   },
   {
    "duration": 314,
    "start_time": "2023-09-22T12:52:38.539Z"
   },
   {
    "duration": 265,
    "start_time": "2023-09-22T12:54:02.971Z"
   },
   {
    "duration": 350,
    "start_time": "2023-09-22T12:54:57.404Z"
   },
   {
    "duration": 272,
    "start_time": "2023-09-22T12:56:54.672Z"
   },
   {
    "duration": 285,
    "start_time": "2023-09-22T12:58:14.740Z"
   },
   {
    "duration": 291,
    "start_time": "2023-09-22T12:59:51.334Z"
   },
   {
    "duration": 280,
    "start_time": "2023-09-22T13:00:24.885Z"
   },
   {
    "duration": 277,
    "start_time": "2023-09-22T13:01:38.403Z"
   },
   {
    "duration": 264,
    "start_time": "2023-09-22T13:02:16.315Z"
   },
   {
    "duration": 1169,
    "start_time": "2023-09-22T13:06:58.413Z"
   },
   {
    "duration": 71,
    "start_time": "2023-09-22T13:06:59.584Z"
   },
   {
    "duration": 17,
    "start_time": "2023-09-22T13:06:59.657Z"
   },
   {
    "duration": 5,
    "start_time": "2023-09-22T13:06:59.676Z"
   },
   {
    "duration": 11,
    "start_time": "2023-09-22T13:06:59.683Z"
   },
   {
    "duration": 24,
    "start_time": "2023-09-22T13:06:59.695Z"
   },
   {
    "duration": 26,
    "start_time": "2023-09-22T13:06:59.721Z"
   },
   {
    "duration": 25,
    "start_time": "2023-09-22T13:06:59.749Z"
   },
   {
    "duration": 7,
    "start_time": "2023-09-22T13:06:59.775Z"
   },
   {
    "duration": 23,
    "start_time": "2023-09-22T13:06:59.783Z"
   },
   {
    "duration": 23,
    "start_time": "2023-09-22T13:06:59.808Z"
   },
   {
    "duration": 32,
    "start_time": "2023-09-22T13:06:59.833Z"
   },
   {
    "duration": 21,
    "start_time": "2023-09-22T13:06:59.867Z"
   },
   {
    "duration": 395,
    "start_time": "2023-09-22T13:06:59.891Z"
   },
   {
    "duration": 18,
    "start_time": "2023-09-22T13:07:00.288Z"
   },
   {
    "duration": 475,
    "start_time": "2023-09-22T13:07:00.307Z"
   },
   {
    "duration": 15,
    "start_time": "2023-09-22T13:07:00.785Z"
   },
   {
    "duration": 221,
    "start_time": "2023-09-22T13:07:00.803Z"
   },
   {
    "duration": 336,
    "start_time": "2023-09-22T13:07:01.026Z"
   },
   {
    "duration": 232,
    "start_time": "2023-09-22T13:07:01.364Z"
   },
   {
    "duration": 153,
    "start_time": "2023-09-22T13:07:01.598Z"
   },
   {
    "duration": 242,
    "start_time": "2023-09-22T13:07:01.753Z"
   },
   {
    "duration": 302,
    "start_time": "2023-09-22T13:07:01.996Z"
   },
   {
    "duration": 331,
    "start_time": "2023-09-22T13:07:02.300Z"
   },
   {
    "duration": 262,
    "start_time": "2023-09-22T13:07:02.633Z"
   },
   {
    "duration": 299,
    "start_time": "2023-09-22T13:07:02.897Z"
   },
   {
    "duration": 295,
    "start_time": "2023-09-22T13:07:03.198Z"
   },
   {
    "duration": 285,
    "start_time": "2023-09-22T13:07:03.495Z"
   },
   {
    "duration": 366,
    "start_time": "2023-09-22T13:07:03.782Z"
   },
   {
    "duration": 294,
    "start_time": "2023-09-22T13:07:04.149Z"
   },
   {
    "duration": 287,
    "start_time": "2023-09-22T13:07:04.445Z"
   },
   {
    "duration": 227,
    "start_time": "2023-09-22T13:07:04.735Z"
   },
   {
    "duration": 195,
    "start_time": "2023-09-22T13:07:04.964Z"
   },
   {
    "duration": 206,
    "start_time": "2023-09-22T13:07:05.160Z"
   },
   {
    "duration": 188,
    "start_time": "2023-09-22T13:07:05.367Z"
   },
   {
    "duration": 202,
    "start_time": "2023-09-22T13:07:05.556Z"
   },
   {
    "duration": 222,
    "start_time": "2023-09-22T13:07:05.759Z"
   },
   {
    "duration": 300,
    "start_time": "2023-09-22T13:07:05.983Z"
   },
   {
    "duration": 194,
    "start_time": "2023-09-22T13:07:06.285Z"
   },
   {
    "duration": 193,
    "start_time": "2023-09-22T13:07:06.480Z"
   },
   {
    "duration": 193,
    "start_time": "2023-09-22T13:07:06.677Z"
   },
   {
    "duration": 9,
    "start_time": "2023-09-22T13:07:06.872Z"
   },
   {
    "duration": 9,
    "start_time": "2023-09-22T13:07:06.883Z"
   },
   {
    "duration": 1152,
    "start_time": "2023-09-22T17:42:29.951Z"
   },
   {
    "duration": 65,
    "start_time": "2023-09-22T17:42:31.105Z"
   },
   {
    "duration": 27,
    "start_time": "2023-09-22T17:42:31.172Z"
   },
   {
    "duration": 54,
    "start_time": "2023-09-22T17:42:31.201Z"
   },
   {
    "duration": 20,
    "start_time": "2023-09-22T17:42:31.257Z"
   },
   {
    "duration": 41,
    "start_time": "2023-09-22T17:42:31.279Z"
   },
   {
    "duration": 131,
    "start_time": "2023-09-22T17:42:31.322Z"
   },
   {
    "duration": 35,
    "start_time": "2023-09-22T17:42:31.455Z"
   },
   {
    "duration": 69,
    "start_time": "2023-09-22T17:42:31.491Z"
   },
   {
    "duration": 100,
    "start_time": "2023-09-22T17:42:31.564Z"
   },
   {
    "duration": 35,
    "start_time": "2023-09-22T17:42:31.666Z"
   },
   {
    "duration": 30,
    "start_time": "2023-09-22T17:42:31.703Z"
   },
   {
    "duration": 12,
    "start_time": "2023-09-22T17:42:31.735Z"
   },
   {
    "duration": 389,
    "start_time": "2023-09-22T17:42:31.748Z"
   },
   {
    "duration": 19,
    "start_time": "2023-09-22T17:42:32.139Z"
   },
   {
    "duration": 446,
    "start_time": "2023-09-22T17:42:32.160Z"
   },
   {
    "duration": 19,
    "start_time": "2023-09-22T17:42:32.609Z"
   },
   {
    "duration": 222,
    "start_time": "2023-09-22T17:42:32.645Z"
   },
   {
    "duration": 337,
    "start_time": "2023-09-22T17:42:32.869Z"
   },
   {
    "duration": 279,
    "start_time": "2023-09-22T17:42:33.207Z"
   },
   {
    "duration": 148,
    "start_time": "2023-09-22T17:42:33.488Z"
   },
   {
    "duration": 222,
    "start_time": "2023-09-22T17:42:33.645Z"
   },
   {
    "duration": 358,
    "start_time": "2023-09-22T17:42:33.870Z"
   },
   {
    "duration": 368,
    "start_time": "2023-09-22T17:42:34.230Z"
   },
   {
    "duration": 303,
    "start_time": "2023-09-22T17:42:34.600Z"
   },
   {
    "duration": 309,
    "start_time": "2023-09-22T17:42:34.905Z"
   },
   {
    "duration": 277,
    "start_time": "2023-09-22T17:42:35.215Z"
   },
   {
    "duration": 358,
    "start_time": "2023-09-22T17:42:35.495Z"
   },
   {
    "duration": 493,
    "start_time": "2023-09-22T17:42:35.855Z"
   },
   {
    "duration": 347,
    "start_time": "2023-09-22T17:42:36.351Z"
   },
   {
    "duration": 344,
    "start_time": "2023-09-22T17:42:36.700Z"
   },
   {
    "duration": 226,
    "start_time": "2023-09-22T17:42:37.047Z"
   },
   {
    "duration": 242,
    "start_time": "2023-09-22T17:42:37.275Z"
   },
   {
    "duration": 274,
    "start_time": "2023-09-22T17:42:37.519Z"
   },
   {
    "duration": 261,
    "start_time": "2023-09-22T17:42:37.795Z"
   },
   {
    "duration": 207,
    "start_time": "2023-09-22T17:42:38.058Z"
   },
   {
    "duration": 208,
    "start_time": "2023-09-22T17:42:38.267Z"
   },
   {
    "duration": 271,
    "start_time": "2023-09-22T17:42:38.478Z"
   },
   {
    "duration": 195,
    "start_time": "2023-09-22T17:42:38.751Z"
   },
   {
    "duration": 252,
    "start_time": "2023-09-22T17:42:38.949Z"
   },
   {
    "duration": 216,
    "start_time": "2023-09-22T17:42:39.203Z"
   },
   {
    "duration": 13,
    "start_time": "2023-09-22T17:42:39.421Z"
   },
   {
    "duration": 14,
    "start_time": "2023-09-22T17:42:39.444Z"
   },
   {
    "duration": 43,
    "start_time": "2023-09-23T05:03:03.698Z"
   },
   {
    "duration": 6,
    "start_time": "2023-09-23T05:03:11.474Z"
   },
   {
    "duration": 1240,
    "start_time": "2023-09-23T05:03:32.510Z"
   },
   {
    "duration": 111,
    "start_time": "2023-09-23T05:03:33.752Z"
   },
   {
    "duration": 17,
    "start_time": "2023-09-23T05:03:33.865Z"
   },
   {
    "duration": 13,
    "start_time": "2023-09-23T05:03:33.884Z"
   },
   {
    "duration": 10,
    "start_time": "2023-09-23T05:03:33.899Z"
   },
   {
    "duration": 14,
    "start_time": "2023-09-23T05:03:33.911Z"
   },
   {
    "duration": 15,
    "start_time": "2023-09-23T05:03:33.927Z"
   },
   {
    "duration": 22,
    "start_time": "2023-09-23T05:03:33.949Z"
   },
   {
    "duration": 6,
    "start_time": "2023-09-23T05:03:33.973Z"
   },
   {
    "duration": 20,
    "start_time": "2023-09-23T05:03:33.981Z"
   },
   {
    "duration": 12,
    "start_time": "2023-09-23T05:03:34.003Z"
   },
   {
    "duration": 45,
    "start_time": "2023-09-23T05:03:34.016Z"
   },
   {
    "duration": 5,
    "start_time": "2023-09-23T05:03:34.063Z"
   },
   {
    "duration": 399,
    "start_time": "2023-09-23T05:03:34.069Z"
   },
   {
    "duration": 18,
    "start_time": "2023-09-23T05:03:34.470Z"
   },
   {
    "duration": 410,
    "start_time": "2023-09-23T05:03:34.490Z"
   },
   {
    "duration": 13,
    "start_time": "2023-09-23T05:03:34.902Z"
   },
   {
    "duration": 164,
    "start_time": "2023-09-23T05:03:34.917Z"
   },
   {
    "duration": 290,
    "start_time": "2023-09-23T05:03:35.083Z"
   },
   {
    "duration": 211,
    "start_time": "2023-09-23T05:03:35.375Z"
   },
   {
    "duration": 143,
    "start_time": "2023-09-23T05:03:35.588Z"
   },
   {
    "duration": 231,
    "start_time": "2023-09-23T05:03:35.733Z"
   },
   {
    "duration": 316,
    "start_time": "2023-09-23T05:03:35.966Z"
   },
   {
    "duration": 310,
    "start_time": "2023-09-23T05:03:36.284Z"
   },
   {
    "duration": 257,
    "start_time": "2023-09-23T05:03:36.596Z"
   },
   {
    "duration": 258,
    "start_time": "2023-09-23T05:03:36.854Z"
   },
   {
    "duration": 277,
    "start_time": "2023-09-23T05:03:37.114Z"
   },
   {
    "duration": 280,
    "start_time": "2023-09-23T05:03:37.394Z"
   },
   {
    "duration": 352,
    "start_time": "2023-09-23T05:03:37.676Z"
   },
   {
    "duration": 309,
    "start_time": "2023-09-23T05:03:38.030Z"
   },
   {
    "duration": 264,
    "start_time": "2023-09-23T05:03:38.341Z"
   },
   {
    "duration": 195,
    "start_time": "2023-09-23T05:03:38.607Z"
   },
   {
    "duration": 185,
    "start_time": "2023-09-23T05:03:38.804Z"
   },
   {
    "duration": 202,
    "start_time": "2023-09-23T05:03:38.991Z"
   },
   {
    "duration": 182,
    "start_time": "2023-09-23T05:03:39.195Z"
   },
   {
    "duration": 179,
    "start_time": "2023-09-23T05:03:39.379Z"
   },
   {
    "duration": 183,
    "start_time": "2023-09-23T05:03:39.560Z"
   },
   {
    "duration": 254,
    "start_time": "2023-09-23T05:03:39.744Z"
   },
   {
    "duration": 182,
    "start_time": "2023-09-23T05:03:40.000Z"
   },
   {
    "duration": 198,
    "start_time": "2023-09-23T05:03:40.183Z"
   },
   {
    "duration": 191,
    "start_time": "2023-09-23T05:03:40.382Z"
   },
   {
    "duration": 9,
    "start_time": "2023-09-23T05:03:40.574Z"
   },
   {
    "duration": 8,
    "start_time": "2023-09-23T05:03:40.585Z"
   },
   {
    "duration": 4,
    "start_time": "2023-09-23T05:37:32.438Z"
   },
   {
    "duration": 4,
    "start_time": "2023-09-23T05:42:13.504Z"
   },
   {
    "duration": 8,
    "start_time": "2023-09-23T05:44:41.090Z"
   },
   {
    "duration": 132,
    "start_time": "2023-09-23T05:44:53.115Z"
   },
   {
    "duration": 270,
    "start_time": "2023-09-23T05:46:15.642Z"
   },
   {
    "duration": 213,
    "start_time": "2023-09-23T05:47:22.962Z"
   },
   {
    "duration": 300,
    "start_time": "2023-09-23T05:47:45.922Z"
   },
   {
    "duration": 247,
    "start_time": "2023-09-23T05:49:31.238Z"
   },
   {
    "duration": 334,
    "start_time": "2023-09-23T05:50:00.760Z"
   },
   {
    "duration": 311,
    "start_time": "2023-09-23T05:50:35.811Z"
   },
   {
    "duration": 240,
    "start_time": "2023-09-23T05:51:05.029Z"
   },
   {
    "duration": 224,
    "start_time": "2023-09-23T05:51:25.640Z"
   },
   {
    "duration": 12,
    "start_time": "2023-09-23T05:52:05.285Z"
   },
   {
    "duration": 4,
    "start_time": "2023-09-23T05:52:06.909Z"
   },
   {
    "duration": 1018,
    "start_time": "2023-09-23T06:00:09.078Z"
   },
   {
    "duration": 64,
    "start_time": "2023-09-23T06:00:10.098Z"
   },
   {
    "duration": 16,
    "start_time": "2023-09-23T06:00:10.164Z"
   },
   {
    "duration": 26,
    "start_time": "2023-09-23T06:00:10.182Z"
   },
   {
    "duration": 29,
    "start_time": "2023-09-23T06:00:10.209Z"
   },
   {
    "duration": 27,
    "start_time": "2023-09-23T06:00:10.239Z"
   },
   {
    "duration": 36,
    "start_time": "2023-09-23T06:00:10.268Z"
   },
   {
    "duration": 34,
    "start_time": "2023-09-23T06:00:10.305Z"
   },
   {
    "duration": 9,
    "start_time": "2023-09-23T06:00:10.341Z"
   },
   {
    "duration": 34,
    "start_time": "2023-09-23T06:00:10.352Z"
   },
   {
    "duration": 24,
    "start_time": "2023-09-23T06:00:10.387Z"
   },
   {
    "duration": 22,
    "start_time": "2023-09-23T06:00:10.413Z"
   },
   {
    "duration": 4,
    "start_time": "2023-09-23T06:00:10.437Z"
   },
   {
    "duration": 391,
    "start_time": "2023-09-23T06:00:10.443Z"
   },
   {
    "duration": 21,
    "start_time": "2023-09-23T06:00:10.836Z"
   },
   {
    "duration": 397,
    "start_time": "2023-09-23T06:00:10.859Z"
   },
   {
    "duration": 13,
    "start_time": "2023-09-23T06:00:11.258Z"
   },
   {
    "duration": 163,
    "start_time": "2023-09-23T06:00:11.272Z"
   },
   {
    "duration": 283,
    "start_time": "2023-09-23T06:00:11.437Z"
   },
   {
    "duration": 211,
    "start_time": "2023-09-23T06:00:11.722Z"
   },
   {
    "duration": 133,
    "start_time": "2023-09-23T06:00:11.935Z"
   },
   {
    "duration": 8,
    "start_time": "2023-09-23T06:00:12.069Z"
   },
   {
    "duration": 234,
    "start_time": "2023-09-23T06:00:12.079Z"
   },
   {
    "duration": 281,
    "start_time": "2023-09-23T06:00:12.314Z"
   },
   {
    "duration": 278,
    "start_time": "2023-09-23T06:00:12.596Z"
   },
   {
    "duration": 262,
    "start_time": "2023-09-23T06:00:12.876Z"
   },
   {
    "duration": 261,
    "start_time": "2023-09-23T06:00:13.149Z"
   },
   {
    "duration": 271,
    "start_time": "2023-09-23T06:00:13.413Z"
   },
   {
    "duration": 352,
    "start_time": "2023-09-23T06:00:13.685Z"
   },
   {
    "duration": 273,
    "start_time": "2023-09-23T06:00:14.039Z"
   },
   {
    "duration": 240,
    "start_time": "2023-09-23T06:00:14.313Z"
   },
   {
    "duration": 237,
    "start_time": "2023-09-23T06:00:14.554Z"
   },
   {
    "duration": 192,
    "start_time": "2023-09-23T06:00:14.792Z"
   },
   {
    "duration": 184,
    "start_time": "2023-09-23T06:00:14.986Z"
   },
   {
    "duration": 184,
    "start_time": "2023-09-23T06:00:15.171Z"
   },
   {
    "duration": 174,
    "start_time": "2023-09-23T06:00:15.356Z"
   },
   {
    "duration": 185,
    "start_time": "2023-09-23T06:00:15.532Z"
   },
   {
    "duration": 294,
    "start_time": "2023-09-23T06:00:15.719Z"
   },
   {
    "duration": 213,
    "start_time": "2023-09-23T06:00:16.015Z"
   },
   {
    "duration": 201,
    "start_time": "2023-09-23T06:00:16.230Z"
   },
   {
    "duration": 195,
    "start_time": "2023-09-23T06:00:16.433Z"
   },
   {
    "duration": 187,
    "start_time": "2023-09-23T06:00:16.629Z"
   },
   {
    "duration": 9,
    "start_time": "2023-09-23T06:00:16.817Z"
   },
   {
    "duration": 310,
    "start_time": "2023-09-23T06:00:16.828Z"
   },
   {
    "duration": 17,
    "start_time": "2023-09-23T06:05:29.646Z"
   },
   {
    "duration": 144,
    "start_time": "2023-09-23T06:05:30.599Z"
   },
   {
    "duration": 164,
    "start_time": "2023-09-23T06:05:52.118Z"
   },
   {
    "duration": 82,
    "start_time": "2023-09-23T06:07:05.599Z"
   },
   {
    "duration": 1025,
    "start_time": "2023-09-23T10:24:55.476Z"
   },
   {
    "duration": 190,
    "start_time": "2023-09-23T10:24:56.503Z"
   },
   {
    "duration": 16,
    "start_time": "2023-09-23T10:24:56.694Z"
   },
   {
    "duration": 5,
    "start_time": "2023-09-23T10:24:56.712Z"
   },
   {
    "duration": 8,
    "start_time": "2023-09-23T10:24:56.719Z"
   },
   {
    "duration": 5,
    "start_time": "2023-09-23T10:24:56.728Z"
   },
   {
    "duration": 20,
    "start_time": "2023-09-23T10:24:56.735Z"
   },
   {
    "duration": 20,
    "start_time": "2023-09-23T10:24:56.756Z"
   },
   {
    "duration": 6,
    "start_time": "2023-09-23T10:24:56.777Z"
   },
   {
    "duration": 16,
    "start_time": "2023-09-23T10:24:56.785Z"
   },
   {
    "duration": 15,
    "start_time": "2023-09-23T10:24:56.802Z"
   },
   {
    "duration": 17,
    "start_time": "2023-09-23T10:24:56.844Z"
   },
   {
    "duration": 6,
    "start_time": "2023-09-23T10:24:56.863Z"
   },
   {
    "duration": 414,
    "start_time": "2023-09-23T10:24:56.871Z"
   },
   {
    "duration": 14,
    "start_time": "2023-09-23T10:24:57.287Z"
   },
   {
    "duration": 378,
    "start_time": "2023-09-23T10:24:57.303Z"
   },
   {
    "duration": 13,
    "start_time": "2023-09-23T10:24:57.683Z"
   },
   {
    "duration": 192,
    "start_time": "2023-09-23T10:24:57.698Z"
   },
   {
    "duration": 313,
    "start_time": "2023-09-23T10:24:57.892Z"
   },
   {
    "duration": 231,
    "start_time": "2023-09-23T10:24:58.207Z"
   },
   {
    "duration": 10,
    "start_time": "2023-09-23T10:24:58.440Z"
   },
   {
    "duration": 163,
    "start_time": "2023-09-23T10:24:58.452Z"
   },
   {
    "duration": 222,
    "start_time": "2023-09-23T10:24:58.617Z"
   },
   {
    "duration": 287,
    "start_time": "2023-09-23T10:24:58.845Z"
   },
   {
    "duration": 270,
    "start_time": "2023-09-23T10:24:59.143Z"
   },
   {
    "duration": 297,
    "start_time": "2023-09-23T10:24:59.415Z"
   },
   {
    "duration": 329,
    "start_time": "2023-09-23T10:24:59.713Z"
   },
   {
    "duration": 314,
    "start_time": "2023-09-23T10:25:00.048Z"
   },
   {
    "duration": 336,
    "start_time": "2023-09-23T10:25:00.364Z"
   },
   {
    "duration": 272,
    "start_time": "2023-09-23T10:25:00.702Z"
   },
   {
    "duration": 283,
    "start_time": "2023-09-23T10:25:00.976Z"
   },
   {
    "duration": 234,
    "start_time": "2023-09-23T10:25:01.261Z"
   },
   {
    "duration": 188,
    "start_time": "2023-09-23T10:25:01.497Z"
   },
   {
    "duration": 174,
    "start_time": "2023-09-23T10:25:01.687Z"
   },
   {
    "duration": 183,
    "start_time": "2023-09-23T10:25:01.863Z"
   },
   {
    "duration": 175,
    "start_time": "2023-09-23T10:25:02.047Z"
   },
   {
    "duration": 192,
    "start_time": "2023-09-23T10:25:02.223Z"
   },
   {
    "duration": 300,
    "start_time": "2023-09-23T10:25:02.416Z"
   },
   {
    "duration": 176,
    "start_time": "2023-09-23T10:25:02.717Z"
   },
   {
    "duration": 183,
    "start_time": "2023-09-23T10:25:02.895Z"
   },
   {
    "duration": 192,
    "start_time": "2023-09-23T10:25:03.080Z"
   },
   {
    "duration": 179,
    "start_time": "2023-09-23T10:25:03.273Z"
   },
   {
    "duration": 10,
    "start_time": "2023-09-23T10:25:03.453Z"
   },
   {
    "duration": 9,
    "start_time": "2023-09-23T10:25:03.464Z"
   },
   {
    "duration": 1236,
    "start_time": "2024-03-16T14:32:32.344Z"
   },
   {
    "duration": 107,
    "start_time": "2024-03-16T14:32:33.582Z"
   },
   {
    "duration": 15,
    "start_time": "2024-03-16T14:32:33.691Z"
   },
   {
    "duration": 4,
    "start_time": "2024-03-16T14:32:33.707Z"
   },
   {
    "duration": 5,
    "start_time": "2024-03-16T14:32:33.713Z"
   },
   {
    "duration": 9,
    "start_time": "2024-03-16T14:32:33.719Z"
   },
   {
    "duration": 23,
    "start_time": "2024-03-16T14:32:33.730Z"
   },
   {
    "duration": 19,
    "start_time": "2024-03-16T14:32:33.755Z"
   },
   {
    "duration": 5,
    "start_time": "2024-03-16T14:32:33.775Z"
   },
   {
    "duration": 13,
    "start_time": "2024-03-16T14:32:33.782Z"
   },
   {
    "duration": 14,
    "start_time": "2024-03-16T14:32:33.797Z"
   },
   {
    "duration": 35,
    "start_time": "2024-03-16T14:32:33.812Z"
   },
   {
    "duration": 3,
    "start_time": "2024-03-16T14:32:33.849Z"
   },
   {
    "duration": 346,
    "start_time": "2024-03-16T14:32:33.855Z"
   },
   {
    "duration": 16,
    "start_time": "2024-03-16T14:32:34.203Z"
   },
   {
    "duration": 362,
    "start_time": "2024-03-16T14:32:34.220Z"
   },
   {
    "duration": 11,
    "start_time": "2024-03-16T14:32:34.584Z"
   },
   {
    "duration": 149,
    "start_time": "2024-03-16T14:32:34.597Z"
   },
   {
    "duration": 258,
    "start_time": "2024-03-16T14:32:34.747Z"
   },
   {
    "duration": 202,
    "start_time": "2024-03-16T14:32:35.006Z"
   },
   {
    "duration": 7,
    "start_time": "2024-03-16T14:32:35.210Z"
   },
   {
    "duration": 140,
    "start_time": "2024-03-16T14:32:35.219Z"
   },
   {
    "duration": 225,
    "start_time": "2024-03-16T14:32:35.361Z"
   },
   {
    "duration": 262,
    "start_time": "2024-03-16T14:32:35.588Z"
   },
   {
    "duration": 261,
    "start_time": "2024-03-16T14:32:35.851Z"
   },
   {
    "duration": 253,
    "start_time": "2024-03-16T14:32:36.114Z"
   },
   {
    "duration": 250,
    "start_time": "2024-03-16T14:32:36.369Z"
   },
   {
    "duration": 260,
    "start_time": "2024-03-16T14:32:36.621Z"
   },
   {
    "duration": 243,
    "start_time": "2024-03-16T14:32:36.882Z"
   },
   {
    "duration": 326,
    "start_time": "2024-03-16T14:32:37.126Z"
   },
   {
    "duration": 229,
    "start_time": "2024-03-16T14:32:37.453Z"
   },
   {
    "duration": 237,
    "start_time": "2024-03-16T14:32:37.684Z"
   },
   {
    "duration": 177,
    "start_time": "2024-03-16T14:32:37.923Z"
   },
   {
    "duration": 172,
    "start_time": "2024-03-16T14:32:38.101Z"
   },
   {
    "duration": 171,
    "start_time": "2024-03-16T14:32:38.274Z"
   },
   {
    "duration": 159,
    "start_time": "2024-03-16T14:32:38.446Z"
   },
   {
    "duration": 158,
    "start_time": "2024-03-16T14:32:38.606Z"
   },
   {
    "duration": 170,
    "start_time": "2024-03-16T14:32:38.765Z"
   },
   {
    "duration": 232,
    "start_time": "2024-03-16T14:32:38.937Z"
   },
   {
    "duration": 168,
    "start_time": "2024-03-16T14:32:39.170Z"
   },
   {
    "duration": 166,
    "start_time": "2024-03-16T14:32:39.344Z"
   },
   {
    "duration": 165,
    "start_time": "2024-03-16T14:32:39.512Z"
   },
   {
    "duration": 8,
    "start_time": "2024-03-16T14:32:39.678Z"
   },
   {
    "duration": 32,
    "start_time": "2024-03-16T14:32:39.687Z"
   }
  ],
  "kernelspec": {
   "display_name": "Python 3 (ipykernel)",
   "language": "python",
   "name": "python3"
  },
  "language_info": {
   "codemirror_mode": {
    "name": "ipython",
    "version": 3
   },
   "file_extension": ".py",
   "mimetype": "text/x-python",
   "name": "python",
   "nbconvert_exporter": "python",
   "pygments_lexer": "ipython3",
   "version": "3.9.5"
  },
  "toc": {
   "base_numbering": 1,
   "nav_menu": {},
   "number_sections": true,
   "sideBar": true,
   "skip_h1_title": true,
   "title_cell": "Table of Contents",
   "title_sidebar": "Contents",
   "toc_cell": false,
   "toc_position": {
    "height": "calc(100% - 180px)",
    "left": "10px",
    "top": "150px",
    "width": "281px"
   },
   "toc_section_display": true,
   "toc_window_display": true
  }
 },
 "nbformat": 4,
 "nbformat_minor": 2
}
